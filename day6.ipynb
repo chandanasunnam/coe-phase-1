{
 "cells": [
  {
   "cell_type": "code",
   "execution_count": 1,
   "id": "eb33872f-0990-4f9d-bc87-a8099e5968b4",
   "metadata": {},
   "outputs": [
    {
     "name": "stdout",
     "output_type": "stream",
     "text": [
      "['False', 'None', 'True', 'and', 'as', 'assert', 'async', 'await', 'break', 'class', 'continue', 'def', 'del', 'elif', 'else', 'except', 'finally', 'for', 'from', 'global', 'if', 'import', 'in', 'is', 'lambda', 'nonlocal', 'not', 'or', 'pass', 'raise', 'return', 'try', 'while', 'with', 'yield']\n"
     ]
    }
   ],
   "source": [
    "import keyword\n",
    "print(keyword.kwlist)"
   ]
  },
  {
   "cell_type": "code",
   "execution_count": 2,
   "id": "79aef296-f678-4a6f-987f-7f1d1490791e",
   "metadata": {},
   "outputs": [
    {
     "data": {
      "text/plain": [
       "20"
      ]
     },
     "execution_count": 2,
     "metadata": {},
     "output_type": "execute_result"
    }
   ],
   "source": [
    "2*10"
   ]
  },
  {
   "cell_type": "code",
   "execution_count": 3,
   "id": "22d1457d-9421-4463-be40-4012966c88ee",
   "metadata": {},
   "outputs": [
    {
     "data": {
      "text/plain": [
       "635"
      ]
     },
     "execution_count": 3,
     "metadata": {},
     "output_type": "execute_result"
    }
   ],
   "source": [
    "7*78+89"
   ]
  },
  {
   "cell_type": "code",
   "execution_count": 5,
   "id": "84572f07-aacb-4883-9af9-b41de1763f76",
   "metadata": {},
   "outputs": [
    {
     "data": {
      "text/plain": [
       "int"
      ]
     },
     "execution_count": 5,
     "metadata": {},
     "output_type": "execute_result"
    }
   ],
   "source": [
    "type(10)"
   ]
  },
  {
   "cell_type": "code",
   "execution_count": 7,
   "id": "41b92910-0c9c-4c30-9635-89a05a3ac888",
   "metadata": {},
   "outputs": [
    {
     "data": {
      "text/plain": [
       "str"
      ]
     },
     "execution_count": 7,
     "metadata": {},
     "output_type": "execute_result"
    }
   ],
   "source": [
    "type('Chandana')"
   ]
  },
  {
   "cell_type": "code",
   "execution_count": 8,
   "id": "e5a95277-ff55-46a8-afad-a51f48e68afa",
   "metadata": {},
   "outputs": [
    {
     "name": "stdout",
     "output_type": "stream",
     "text": [
      "10\n"
     ]
    }
   ],
   "source": [
    "a=b=c=10\n",
    "print(b)"
   ]
  },
  {
   "cell_type": "code",
   "execution_count": 9,
   "id": "e5cce0ed-5cc3-4f08-9968-55484ce65436",
   "metadata": {},
   "outputs": [
    {
     "name": "stdout",
     "output_type": "stream",
     "text": [
      "1 20 Hello\n"
     ]
    }
   ],
   "source": [
    "a,b,c=1,20,'Hello'\n",
    "print(a,b,c)"
   ]
  },
  {
   "cell_type": "code",
   "execution_count": 10,
   "id": "ad015dd2-9fec-4ac6-91c5-30595c6aeb59",
   "metadata": {},
   "outputs": [
    {
     "name": "stdout",
     "output_type": "stream",
     "text": [
      "10,20\n"
     ]
    }
   ],
   "source": [
    "a=10\n",
    "b=20\n",
    "print(a,b,sep=',')"
   ]
  },
  {
   "cell_type": "code",
   "execution_count": 11,
   "id": "bbcf3cf3-7a5e-41c6-8df4-be88c332d58d",
   "metadata": {},
   "outputs": [
    {
     "name": "stdout",
     "output_type": "stream",
     "text": [
      "1#2#3#4$"
     ]
    }
   ],
   "source": [
    "print(1,2,3,4,sep='#',end='$')"
   ]
  },
  {
   "cell_type": "code",
   "execution_count": 12,
   "id": "fbecb546-b79e-49cd-9d34-9e9d5dbb1e38",
   "metadata": {},
   "outputs": [
    {
     "name": "stdout",
     "output_type": "stream",
     "text": [
      "The Given Employee Number is:  190\n",
      "The Given Employee Name is:  Chandana\n",
      "The Given Employee Salary is:  456.36\n"
     ]
    }
   ],
   "source": [
    "a=190\n",
    "b='Chandana'\n",
    "c=456.36\n",
    "print(\"The Given Employee Number is: \",a)\n",
    "print(\"The Given Employee Name is: \",b)\n",
    "print(\"The Given Employee Salary is: \",c)"
   ]
  },
  {
   "cell_type": "code",
   "execution_count": 15,
   "id": "ce0737dc-f8bf-43c7-a79d-0914ed6d8b86",
   "metadata": {},
   "outputs": [
    {
     "name": "stdin",
     "output_type": "stream",
     "text": [
      "Enter Employee Number 190\n",
      "Enter the name of the Employee Chandana\n",
      "Enter the salary of the employee 456.36\n"
     ]
    },
    {
     "name": "stdout",
     "output_type": "stream",
     "text": [
      "The Given Employee Number is:  190\n",
      "The Given Employee Name is:  Chandana\n",
      "The Given Employee Salary is:  456.36\n"
     ]
    }
   ],
   "source": [
    "a=int(input(\"Enter Employee Number\"))\n",
    "b=input(\"Enter the name of the Employee\")\n",
    "c=float(input(\"Enter the salary of the employee\"))\n",
    "print(\"The Given Employee Number is: \",a)\n",
    "print(\"The Given Employee Name is: \",b)\n",
    "print(\"The Given Employee Salary is: \",c)\n",
    "        "
   ]
  },
  {
   "cell_type": "code",
   "execution_count": 16,
   "id": "f4fe9a9c-6c30-4123-8cce-aaa18dab8913",
   "metadata": {},
   "outputs": [
    {
     "name": "stdin",
     "output_type": "stream",
     "text": [
      "Enter the radius:  6\n"
     ]
    },
    {
     "name": "stdout",
     "output_type": "stream",
     "text": [
      "113.03999999999999\n"
     ]
    }
   ],
   "source": [
    "r=int(input(\"Enter the radius: \"))\n",
    "pi=3.14\n",
    "area=pi*r*r\n",
    "print(area)"
   ]
  },
  {
   "cell_type": "code",
   "execution_count": 19,
   "id": "b1db6a07-1a2c-49b5-b1c3-d563e85e7306",
   "metadata": {},
   "outputs": [
    {
     "name": "stdin",
     "output_type": "stream",
     "text": [
      "Enter the id of the student 120\n",
      "Enter name of the student Chandana\n",
      "Enter marks of maths subject 90\n",
      "Enter marks of physics subject 89\n",
      "Enter marks of chemistry subject 78\n"
     ]
    },
    {
     "name": "stdout",
     "output_type": "stream",
     "text": [
      "Student id:  120\n",
      "Student name:  Chandana\n",
      "Marks in Maths:  90\n",
      "Marks in Chemistry:  78\n",
      "Marks in Physics:  89\n",
      "Total marks:  257\n",
      "Average marks:  85.66666666666667\n"
     ]
    }
   ],
   "source": [
    "num=int(input(\"Enter the id of the student\"))\n",
    "name=input(\"Enter name of the student\")\n",
    "math=int(input(\"Enter marks of maths subject\"))\n",
    "phy=int(input(\"Enter marks of physics subject\"))\n",
    "chem=int(input(\"Enter marks of chemistry subject\"))\n",
    "tot=math+phy+chem\n",
    "avg=tot/3\n",
    "print(\"Student id: \",num)\n",
    "print(\"Student name: \",name)\n",
    "print(\"Marks in Maths: \",math)\n",
    "print(\"Marks in Chemistry: \",chem)\n",
    "print(\"Marks in Physics: \",phy)\n",
    "print(\"Total marks: \",tot)\n",
    "print(\"Average marks: \",avg)\n",
    "\n",
    "\n",
    "\n"
   ]
  },
  {
   "cell_type": "code",
   "execution_count": 22,
   "id": "3997a1db-0f9e-419b-9320-99c7c026f1fe",
   "metadata": {},
   "outputs": [
    {
     "data": {
      "text/plain": [
       "10.398"
      ]
     },
     "execution_count": 22,
     "metadata": {},
     "output_type": "execute_result"
    }
   ],
   "source": [
    "round(10.3977,3)"
   ]
  },
  {
   "cell_type": "code",
   "execution_count": 23,
   "id": "504be51f-31ff-4ae6-a90b-0bca7ecc61ca",
   "metadata": {},
   "outputs": [
    {
     "name": "stdout",
     "output_type": "stream",
     "text": [
      "A is greater than B\n"
     ]
    }
   ],
   "source": [
    "a=17\n",
    "b=5\n",
    "if a>b:\n",
    "    print(\"A is greater than B\")\n",
    "else:\n",
    "    print(\"b is greater than a\")\n"
   ]
  },
  {
   "cell_type": "code",
   "execution_count": 25,
   "id": "3ffa980b-a4b1-44a2-89a8-00546708a561",
   "metadata": {},
   "outputs": [
    {
     "name": "stdin",
     "output_type": "stream",
     "text": [
      "Enter the number: 67\n"
     ]
    },
    {
     "name": "stdout",
     "output_type": "stream",
     "text": [
      "Number is odd\n"
     ]
    }
   ],
   "source": [
    "a=int(input(\"Enter the number:\"))\n",
    "if a%2==0:\n",
    "    print(\"Number is even\")\n",
    "else:\n",
    "    print(\"Number is odd\") "
   ]
  },
  {
   "cell_type": "code",
   "execution_count": 26,
   "id": "da47486a-36e1-408d-9289-9dde53d7c0cb",
   "metadata": {},
   "outputs": [
    {
     "name": "stdout",
     "output_type": "stream",
     "text": [
      "Both are equal\n"
     ]
    }
   ],
   "source": [
    "a=10\n",
    "b=10\n",
    "if a>b:\n",
    "    print(\"A is greater\")\n",
    "elif b>a:\n",
    "    print(\"B is greater\")\n",
    "else:\n",
    "    print(\"Both are equal\")\n"
   ]
  },
  {
   "cell_type": "code",
   "execution_count": 32,
   "id": "2425e732-5967-46ae-b3bd-66a9c521a32d",
   "metadata": {},
   "outputs": [
    {
     "name": "stdout",
     "output_type": "stream",
     "text": [
      "dora\n",
      "dora\n",
      "dora\n",
      "dora\n",
      "dora\n"
     ]
    }
   ],
   "source": [
    "i=1\n",
    "while i<=5:\n",
    "    print(\"dora\")\n",
    "    i=i+1\n",
    "    "
   ]
  },
  {
   "cell_type": "code",
   "execution_count": 34,
   "id": "62de700b-6855-43aa-9e3a-3dd1a2b27574",
   "metadata": {},
   "outputs": [
    {
     "name": "stdin",
     "output_type": "stream",
     "text": [
      "Enter upto which number 200\n"
     ]
    },
    {
     "name": "stdout",
     "output_type": "stream",
     "text": [
      "2\n",
      "4\n",
      "6\n",
      "8\n",
      "10\n",
      "12\n",
      "14\n",
      "16\n",
      "18\n",
      "20\n",
      "22\n",
      "24\n",
      "26\n",
      "28\n",
      "30\n",
      "32\n",
      "34\n",
      "36\n",
      "38\n",
      "40\n",
      "42\n",
      "44\n",
      "46\n",
      "48\n",
      "50\n",
      "52\n",
      "54\n",
      "56\n",
      "58\n",
      "60\n",
      "62\n",
      "64\n",
      "66\n",
      "68\n",
      "70\n",
      "72\n",
      "74\n",
      "76\n",
      "78\n",
      "80\n",
      "82\n",
      "84\n",
      "86\n",
      "88\n",
      "90\n",
      "92\n",
      "94\n",
      "96\n",
      "98\n",
      "100\n",
      "102\n",
      "104\n",
      "106\n",
      "108\n",
      "110\n",
      "112\n",
      "114\n",
      "116\n",
      "118\n",
      "120\n",
      "122\n",
      "124\n",
      "126\n",
      "128\n",
      "130\n",
      "132\n",
      "134\n",
      "136\n",
      "138\n",
      "140\n",
      "142\n",
      "144\n",
      "146\n",
      "148\n",
      "150\n",
      "152\n",
      "154\n",
      "156\n",
      "158\n",
      "160\n",
      "162\n",
      "164\n",
      "166\n",
      "168\n",
      "170\n",
      "172\n",
      "174\n",
      "176\n",
      "178\n",
      "180\n",
      "182\n",
      "184\n",
      "186\n",
      "188\n",
      "190\n",
      "192\n",
      "194\n",
      "196\n",
      "198\n",
      "200\n"
     ]
    }
   ],
   "source": [
    "i=1\n",
    "n=int(input(\"Enter upto which number\"))\n",
    "while i<=n:\n",
    "    if i%2==0:\n",
    "        print(i)\n",
    "        i=i+1\n",
    "    else:\n",
    "        i=i+1\n",
    "        \n",
    "    \n",
    "    "
   ]
  },
  {
   "cell_type": "code",
   "execution_count": 36,
   "id": "9e329a45-ec47-4d76-9d37-a29e832bfb94",
   "metadata": {},
   "outputs": [
    {
     "name": "stdout",
     "output_type": "stream",
     "text": [
      "10\n",
      "11\n",
      "12\n",
      "13\n",
      "14\n",
      "15\n",
      "16\n",
      "17\n",
      "18\n",
      "19\n"
     ]
    }
   ],
   "source": [
    "for i in range(10,20):\n",
    "   print(i)"
   ]
  },
  {
   "cell_type": "code",
   "execution_count": 37,
   "id": "7df06396-02d1-4522-9c5f-87a0f9a1f272",
   "metadata": {},
   "outputs": [
    {
     "name": "stdout",
     "output_type": "stream",
     "text": [
      "-10\n",
      "-9\n",
      "-8\n",
      "-7\n",
      "-6\n",
      "-5\n",
      "-4\n",
      "-3\n",
      "-2\n",
      "-1\n",
      "0\n",
      "1\n",
      "2\n",
      "3\n",
      "4\n",
      "5\n",
      "6\n",
      "7\n",
      "8\n",
      "9\n",
      "10\n",
      "11\n",
      "12\n",
      "13\n",
      "14\n",
      "15\n",
      "16\n",
      "17\n",
      "18\n",
      "19\n"
     ]
    }
   ],
   "source": [
    "for i in range(-10,20):\n",
    "   print(i)"
   ]
  },
  {
   "cell_type": "code",
   "execution_count": 39,
   "id": "a12d9431-e9ae-4edb-be14-3a9c9a8a24da",
   "metadata": {},
   "outputs": [
    {
     "name": "stdin",
     "output_type": "stream",
     "text": [
      "Enter the table you want: 7\n"
     ]
    },
    {
     "name": "stdout",
     "output_type": "stream",
     "text": [
      "7 * 1 = 7\n",
      "7 * 2 = 14\n",
      "7 * 3 = 21\n",
      "7 * 4 = 28\n",
      "7 * 5 = 35\n",
      "7 * 6 = 42\n",
      "7 * 7 = 49\n",
      "7 * 8 = 56\n",
      "7 * 9 = 63\n",
      "7 * 10 = 70\n"
     ]
    }
   ],
   "source": [
    "n=int(input(\"Enter the table you want:\"))\n",
    "for i in range(1,10+1):\n",
    "    print(f\"{n} * {i} =\",n*i)"
   ]
  },
  {
   "cell_type": "code",
   "execution_count": 45,
   "id": "c20857a6-bb59-410a-8b57-93c7282a2fed",
   "metadata": {},
   "outputs": [
    {
     "name": "stdin",
     "output_type": "stream",
     "text": [
      "Enter the number: 5\n"
     ]
    },
    {
     "name": "stdout",
     "output_type": "stream",
     "text": [
      "* * * * * \n",
      "* * * * * \n",
      "* * * * * \n",
      "* * * * * \n",
      "* * * * * \n"
     ]
    }
   ],
   "source": [
    "n=int(input(\"Enter the number:\"))\n",
    "i=1\n",
    "while i<=n:\n",
    "    j=1\n",
    "    while j<=n:\n",
    "        print(\"*\",end=\" \")\n",
    "        \n",
    "        j=j+1\n",
    "    print()\n",
    "    i=i+1\n"
   ]
  },
  {
   "cell_type": "code",
   "execution_count": 45,
   "id": "a6bf62df-3e2d-412a-89be-29f1e1b215c9",
   "metadata": {},
   "outputs": [
    {
     "name": "stdin",
     "output_type": "stream",
     "text": [
      "Enter the number: 5\n"
     ]
    },
    {
     "name": "stdout",
     "output_type": "stream",
     "text": [
      "* * * * * \n",
      "* * * * * \n",
      "* * * * * \n",
      "* * * * * \n",
      "* * * * * \n"
     ]
    }
   ],
   "source": [
    "n=int(input(\"Enter the number:\"))\n",
    "i=1\n",
    "while i<=n:\n",
    "    j=1\n",
    "    while j<=n:\n",
    "        print(\"*\",end=\" \")\n",
    "        \n",
    "        j=j+1\n",
    "    print()\n",
    "    i=i+1\n"
   ]
  },
  {
   "cell_type": "code",
   "execution_count": 46,
   "id": "7cf117b0-4a9a-44b8-80eb-b3496666da6f",
   "metadata": {},
   "outputs": [
    {
     "name": "stdin",
     "output_type": "stream",
     "text": [
      "Enter the value of n:  8\n"
     ]
    },
    {
     "name": "stdout",
     "output_type": "stream",
     "text": [
      "* * * * * * * * \n",
      "* * * * * * * * \n",
      "* * * * * * * * \n",
      "* * * * * * * * \n",
      "* * * * * * * * \n",
      "* * * * * * * * \n",
      "* * * * * * * * \n",
      "* * * * * * * * \n"
     ]
    }
   ],
   "source": [
    "n=int(input(\"Enter the value of n: \"))\n",
    "for i in range(1,n+1):                     #i for rows and j for coloum\n",
    "    j=1\n",
    "    while j<=n:\n",
    "        print('*', end=\" \")\n",
    "        j=j+1\n",
    "    print()"
   ]
  },
  {
   "cell_type": "code",
   "execution_count": 47,
   "id": "bc905fe8-f3ce-4f07-8c7b-32f6db3cf04f",
   "metadata": {},
   "outputs": [
    {
     "name": "stdin",
     "output_type": "stream",
     "text": [
      "Enter the value of n:  5\n"
     ]
    },
    {
     "name": "stdout",
     "output_type": "stream",
     "text": [
      "* \n",
      "* * \n",
      "* * * \n",
      "* * * * \n",
      "* * * * * \n"
     ]
    }
   ],
   "source": [
    "n=int(input(\"Enter the value of n: \"))\n",
    "for i in range(1,n+1):                     #i for rows and j for coloum\n",
    "    j=1\n",
    "    while j<=i:\n",
    "        print('*', end=\" \")\n",
    "        j=j+1\n",
    "    print()"
   ]
  },
  {
   "cell_type": "code",
   "execution_count": 51,
   "id": "43ce25f9-df95-4c88-b181-d5633ec669b2",
   "metadata": {},
   "outputs": [
    {
     "name": "stdin",
     "output_type": "stream",
     "text": [
      "Enter the value of n:  6\n"
     ]
    },
    {
     "name": "stdout",
     "output_type": "stream",
     "text": [
      "$ * * * * * \n",
      "* $ * * * * \n",
      "* * $ * * * \n",
      "* * * $ * * \n",
      "* * * * $ * \n",
      "* * * * * $ \n"
     ]
    }
   ],
   "source": [
    "n=int(input(\"Enter the value of n: \"))\n",
    "for i in range(1,n+1):\n",
    "    for j in range(1,n+1):\n",
    "        if i == j:\n",
    "            print(\"$\",end=\" \") \n",
    "        else:\n",
    "            print(\"*\",end=\" \") \n",
    "            j=j+1\n",
    "    print()\n",
    "        \n",
    "    \n"
   ]
  },
  {
   "cell_type": "code",
   "execution_count": 55,
   "id": "804f5e2f-d165-4d26-b7e4-f0c78aeaddd0",
   "metadata": {},
   "outputs": [
    {
     "name": "stdin",
     "output_type": "stream",
     "text": [
      "Enter the value of n:  6\n"
     ]
    },
    {
     "name": "stdout",
     "output_type": "stream",
     "text": [
      "$ * * * * $ \n",
      "* $ * * $ * \n",
      "* * $ $ * * \n",
      "* * $ $ * * \n",
      "* $ * * $ * \n",
      "$ * * * * $ \n"
     ]
    }
   ],
   "source": [
    "n=int(input(\"Enter the value of n: \"))\n",
    "for i in range(1,n+1):\n",
    "    for j in range(1,n+1):\n",
    "        if i == j or j==n-i+1:\n",
    "            print(\"$\",end=\" \") \n",
    "\n",
    "        else:\n",
    "            print(\"*\",end=\" \") \n",
    "            j=j+1\n",
    "    print()\n",
    "    i=i+1\n",
    "        \n",
    "    \n"
   ]
  },
  {
   "cell_type": "code",
   "execution_count": 59,
   "id": "74de73f3-873a-45a4-b0e2-3077e2939340",
   "metadata": {},
   "outputs": [
    {
     "data": {
      "text/plain": [
       "[1, 2, 3]"
      ]
     },
     "execution_count": 59,
     "metadata": {},
     "output_type": "execute_result"
    }
   ],
   "source": [
    "my_list=[1,2,3]\n",
    "my_list"
   ]
  },
  {
   "cell_type": "code",
   "execution_count": 63,
   "id": "e42e82ac-83a7-4374-90c9-e84285b09d2c",
   "metadata": {},
   "outputs": [
    {
     "name": "stdout",
     "output_type": "stream",
     "text": [
      "987\n"
     ]
    }
   ],
   "source": [
    "num_list= [[1,2,4], [98,987,77]]\n",
    "print(num_list[1][1])"
   ]
  },
  {
   "cell_type": "code",
   "execution_count": 64,
   "id": "4e23d949-8423-4123-9153-2adf8e167ec3",
   "metadata": {},
   "outputs": [
    {
     "data": {
      "text/plain": [
       "90"
      ]
     },
     "execution_count": 64,
     "metadata": {},
     "output_type": "execute_result"
    }
   ],
   "source": [
    "my_list=[10,20,30,40,50,60,70,80,90,100]\n",
    "my_list[-2]"
   ]
  },
  {
   "cell_type": "code",
   "execution_count": 66,
   "id": "f7e2171b-6dbe-4d3c-86af-54365f360e40",
   "metadata": {},
   "outputs": [
    {
     "data": {
      "text/plain": [
       "[50, 60, 70, 80, 90, 100]"
      ]
     },
     "execution_count": 66,
     "metadata": {},
     "output_type": "execute_result"
    }
   ],
   "source": [
    "my_list=[10,20,30,40,50,60,70,80,90,100]\n",
    "my_list[4: ]"
   ]
  },
  {
   "cell_type": "code",
   "execution_count": 67,
   "id": "4703fc54-46f9-4af7-8684-5e59a1d64b8f",
   "metadata": {},
   "outputs": [
    {
     "data": {
      "text/plain": [
       "[30, 40, 50, 60, 70, 80]"
      ]
     },
     "execution_count": 67,
     "metadata": {},
     "output_type": "execute_result"
    }
   ],
   "source": [
    "my_list[2:8]"
   ]
  },
  {
   "cell_type": "code",
   "execution_count": 70,
   "id": "461ffc12-95fc-4bf5-ae8b-da41cef8d3ed",
   "metadata": {},
   "outputs": [
    {
     "data": {
      "text/plain": [
       "[79, 20, 30, 40, 50, 60, 70, 80, 79, 100]"
      ]
     },
     "execution_count": 70,
     "metadata": {},
     "output_type": "execute_result"
    }
   ],
   "source": [
    "my_list[0]=79\n",
    "my_list"
   ]
  },
  {
   "cell_type": "code",
   "execution_count": 71,
   "id": "e67a1257-1379-45ad-a826-9d217bb94308",
   "metadata": {},
   "outputs": [
    {
     "data": {
      "text/plain": [
       "[79, 40, 50, 60, 70, 80, 79, 100]"
      ]
     },
     "execution_count": 71,
     "metadata": {},
     "output_type": "execute_result"
    }
   ],
   "source": [
    "del my_list[1:3]\n",
    "my_list"
   ]
  },
  {
   "cell_type": "code",
   "execution_count": 79,
   "id": "d90d9fa1-844f-4adf-b8f8-0fe72a9e0d1b",
   "metadata": {},
   "outputs": [
    {
     "name": "stdin",
     "output_type": "stream",
     "text": [
      "Enter the no of elements :  3\n"
     ]
    },
    {
     "name": "stdout",
     "output_type": "stream",
     "text": [
      "Enter the elements\n"
     ]
    },
    {
     "name": "stdin",
     "output_type": "stream",
     "text": [
      " 89\n",
      " 90\n",
      " 67\n"
     ]
    },
    {
     "name": "stdout",
     "output_type": "stream",
     "text": [
      "['89', '90', '67']\n"
     ]
    }
   ],
   "source": [
    "n=int(input(\"Enter the no of elements : \"))\n",
    "a=[]\n",
    "print(\"Enter the elements\")\n",
    "for i in range(n):\n",
    "    b=input(\"\")\n",
    "    a.append(b)\n",
    "print(a)"
   ]
  },
  {
   "cell_type": "code",
   "execution_count": 82,
   "id": "f6192c11-da79-4e5e-9700-105ac01625f4",
   "metadata": {},
   "outputs": [
    {
     "data": {
      "text/plain": [
       "[79, 40, 30, 50, 60, 70, 80, 79, 100]"
      ]
     },
     "execution_count": 82,
     "metadata": {},
     "output_type": "execute_result"
    }
   ],
   "source": [
    "my_list.insert(2,30)\n",
    "my_list"
   ]
  },
  {
   "cell_type": "code",
   "execution_count": 88,
   "id": "4ab19dc3-2e63-42c5-98d7-8f19d34cb36b",
   "metadata": {},
   "outputs": [
    {
     "name": "stdin",
     "output_type": "stream",
     "text": [
      "Enter the number to be removed:  30\n"
     ]
    },
    {
     "name": "stdout",
     "output_type": "stream",
     "text": [
      "[79, 40, 50, 60, 70, 79, 100]\n"
     ]
    }
   ],
   "source": [
    "x=int(input(\"Enter the number to be removed: \"))\n",
    "if x in my_list:\n",
    "    my_list.remove(x)\n",
    "    print(my_list)\n",
    "else:\n",
    "    print(\"Element not in list\")"
   ]
  },
  {
   "cell_type": "code",
   "execution_count": 89,
   "id": "8e05277b-9a10-4934-b10a-8511fb6f2106",
   "metadata": {},
   "outputs": [
    {
     "data": {
      "text/plain": [
       "100"
      ]
     },
     "execution_count": 89,
     "metadata": {},
     "output_type": "execute_result"
    }
   ],
   "source": [
    "my_list.pop()\n"
   ]
  },
  {
   "cell_type": "code",
   "execution_count": 92,
   "id": "d5b8b479-12c2-4fff-abca-fdad47474313",
   "metadata": {},
   "outputs": [
    {
     "data": {
      "text/plain": [
       "79"
      ]
     },
     "execution_count": 92,
     "metadata": {},
     "output_type": "execute_result"
    }
   ],
   "source": [
    "my_list.pop(0)"
   ]
  },
  {
   "cell_type": "code",
   "execution_count": 93,
   "id": "604c2ce0-46a7-43a2-b754-b07e1c7a3267",
   "metadata": {},
   "outputs": [
    {
     "data": {
      "text/plain": [
       "[1, 8, 9, 6, 4]"
      ]
     },
     "execution_count": 93,
     "metadata": {},
     "output_type": "execute_result"
    }
   ],
   "source": [
    "a=[1,8,9,6,4]\n",
    "a"
   ]
  },
  {
   "cell_type": "code",
   "execution_count": 95,
   "id": "2503f822-887b-4e1d-b17e-f6ab7074262b",
   "metadata": {},
   "outputs": [
    {
     "data": {
      "text/plain": [
       "[]"
      ]
     },
     "execution_count": 95,
     "metadata": {},
     "output_type": "execute_result"
    }
   ],
   "source": [
    "a.clear()\n",
    "a"
   ]
  },
  {
   "cell_type": "code",
   "execution_count": 96,
   "id": "e531e378-7fa5-45b5-a481-739cefa9558a",
   "metadata": {},
   "outputs": [
    {
     "data": {
      "text/plain": [
       "[40, 50, 60, 70, 79]"
      ]
     },
     "execution_count": 96,
     "metadata": {},
     "output_type": "execute_result"
    }
   ],
   "source": [
    "my_list"
   ]
  },
  {
   "cell_type": "code",
   "execution_count": 98,
   "id": "74e6c75d-9f0c-4f6e-81f1-e08a8526f1e1",
   "metadata": {},
   "outputs": [
    {
     "data": {
      "text/plain": [
       "4"
      ]
     },
     "execution_count": 98,
     "metadata": {},
     "output_type": "execute_result"
    }
   ],
   "source": [
    "my_list.index(79)"
   ]
  },
  {
   "cell_type": "code",
   "execution_count": 99,
   "id": "2da2f1ae-ef5b-464c-b2bf-b1893186f8b4",
   "metadata": {},
   "outputs": [
    {
     "data": {
      "text/plain": [
       "[1, 2, 3, 4, 5, 6, 7, 8, 9, 10]"
      ]
     },
     "execution_count": 99,
     "metadata": {},
     "output_type": "execute_result"
    }
   ],
   "source": [
    "a=[1,2,3,4,5]\n",
    "b=[6,7,8,9,10]\n",
    "a.extend(b)\n",
    "a"
   ]
  },
  {
   "cell_type": "code",
   "execution_count": 100,
   "id": "1735f2ab-e18d-4cfc-914f-4eeb41880104",
   "metadata": {},
   "outputs": [
    {
     "data": {
      "text/plain": [
       "1"
      ]
     },
     "execution_count": 100,
     "metadata": {},
     "output_type": "execute_result"
    }
   ],
   "source": [
    "my_list.count(60)"
   ]
  },
  {
   "cell_type": "code",
   "execution_count": 101,
   "id": "a842557b-3f3a-4b16-87cc-7b379c59e970",
   "metadata": {},
   "outputs": [
    {
     "data": {
      "text/plain": [
       "[1, 4, 6, 8, 9]"
      ]
     },
     "execution_count": 101,
     "metadata": {},
     "output_type": "execute_result"
    }
   ],
   "source": [
    "a=[1,8,9,6,4]\n",
    "a.sort()\n",
    "a"
   ]
  },
  {
   "cell_type": "code",
   "execution_count": 102,
   "id": "d5269f08-017e-4c64-b287-74a21632b210",
   "metadata": {},
   "outputs": [
    {
     "data": {
      "text/plain": [
       "[9, 8, 6, 4, 1]"
      ]
     },
     "execution_count": 102,
     "metadata": {},
     "output_type": "execute_result"
    }
   ],
   "source": [
    "a=[1,8,9,6,4]\n",
    "a.sort(reverse=True)"
   ]
  },
  {
   "cell_type": "code",
   "execution_count": 116,
   "id": "0f9c7eda-3342-48ef-9edf-d7925549c64c",
   "metadata": {},
   "outputs": [
    {
     "name": "stdout",
     "output_type": "stream",
     "text": [
      "Enter 5 scores \n"
     ]
    },
    {
     "name": "stdin",
     "output_type": "stream",
     "text": [
      " 30\n",
      " 45\n",
      " 65\n",
      " 98\n",
      " 68\n"
     ]
    },
    {
     "name": "stdout",
     "output_type": "stream",
     "text": [
      "Initial Scores:\n",
      " [30, 45, 65, 98, 68]\n",
      "Scores after inserting bonus:\n",
      " [100, 30, 45, 65, 98, 68]\n",
      "Scores after removing bonus:\n",
      " [30, 45, 65, 98, 68]\n",
      "popped element :\n",
      " 68\n",
      "Extended list:\n",
      " [30, 45, 65, 98, 85, 75, 95, 65, 55]\n",
      "Desending order of list: \n",
      " [98, 95, 85, 75, 65, 65, 55, 45, 30]\n"
     ]
    }
   ],
   "source": [
    "scores=[]\n",
    "print(\"Enter 5 scores \")\n",
    "for i in range(5):\n",
    "    scores.append(int(input()))\n",
    "print(\"Initial Scores:\\n\",scores)\n",
    "ind=scores.index(min(scores))\n",
    "scores.insert(ind,100)\n",
    "print(\"Scores after inserting bonus:\\n\",scores)\n",
    "scores.remove(max(scores))\n",
    "print(\"Scores after removing bonus:\\n\",scores)\n",
    "popped_score=scores.pop(4)\n",
    "print(\"popped element :\\n\",popped_score)\n",
    "b=[85,75,95,65,55]\n",
    "scores.extend(b)\n",
    "print(\"Extended list:\\n\",scores)\n",
    "scores.sort(reverse=True)\n",
    "print(\"Desending order of list: \\n\",scores)"
   ]
  },
  {
   "cell_type": "code",
   "execution_count": 117,
   "id": "64e1a595-8db6-49ee-99cb-6603df0a1052",
   "metadata": {},
   "outputs": [
    {
     "data": {
      "text/plain": [
       "('koushik', 'swathi', 100, 200)"
      ]
     },
     "execution_count": 117,
     "metadata": {},
     "output_type": "execute_result"
    }
   ],
   "source": [
    "tup1=('koushik','swathi',100,200)\n",
    "tup1"
   ]
  },
  {
   "cell_type": "code",
   "execution_count": 118,
   "id": "ff91dcef-9771-4a74-bb07-3a2b306335e4",
   "metadata": {},
   "outputs": [
    {
     "data": {
      "text/plain": [
       "('P', 'Y', 'T', 'H', 'O', 'N')"
      ]
     },
     "execution_count": 118,
     "metadata": {},
     "output_type": "execute_result"
    }
   ],
   "source": [
    "t=tuple('PYTHON')\n",
    "t"
   ]
  },
  {
   "cell_type": "code",
   "execution_count": 1,
   "id": "beee4eae-ac48-4d88-a005-89fb0c2e9b67",
   "metadata": {},
   "outputs": [
    {
     "data": {
      "text/plain": [
       "'12334'"
      ]
     },
     "execution_count": 1,
     "metadata": {},
     "output_type": "execute_result"
    }
   ],
   "source": [
    "a=12334\n",
    "str(a)"
   ]
  },
  {
   "cell_type": "code",
   "execution_count": 2,
   "id": "1dc68c59-1eff-4513-a74f-10dd296ef2b8",
   "metadata": {},
   "outputs": [
    {
     "data": {
      "text/plain": [
       "'Y'"
      ]
     },
     "execution_count": 2,
     "metadata": {},
     "output_type": "execute_result"
    }
   ],
   "source": [
    "max(\"AHRYDN\")"
   ]
  },
  {
   "cell_type": "code",
   "execution_count": 3,
   "id": "bd7311f6-576c-492e-8a61-ef7f7bdc6000",
   "metadata": {},
   "outputs": [
    {
     "data": {
      "text/plain": [
       "'A'"
      ]
     },
     "execution_count": 3,
     "metadata": {},
     "output_type": "execute_result"
    }
   ],
   "source": [
    "min(\"EJNDJLSA\")"
   ]
  },
  {
   "cell_type": "code",
   "execution_count": 4,
   "id": "75486780-daa0-424f-96b5-f126dc961bd0",
   "metadata": {},
   "outputs": [
    {
     "data": {
      "text/plain": [
       "34"
      ]
     },
     "execution_count": 4,
     "metadata": {},
     "output_type": "execute_result"
    }
   ],
   "source": [
    "len(\"fhebhbuyheuyrhhfeirfiufirufhfnidhn\")"
   ]
  },
  {
   "cell_type": "code",
   "execution_count": 6,
   "id": "f6a091b1-16b6-49d5-b8c1-fc0249ea19b0",
   "metadata": {},
   "outputs": [
    {
     "name": "stdin",
     "output_type": "stream",
     "text": [
      "Enter your name:  CHANDANA\n"
     ]
    },
    {
     "name": "stdout",
     "output_type": "stream",
     "text": [
      "A\n",
      "N\n",
      "8\n",
      "['A', 'A', 'A', 'C', 'D', 'H', 'N', 'N']\n"
     ]
    }
   ],
   "source": [
    "n=input(\"Enter your name: \")\n",
    "print(min(n))\n",
    "print(max(n))\n",
    "print(len(n))\n",
    "print(sorted(n))"
   ]
  },
  {
   "cell_type": "code",
   "execution_count": 8,
   "id": "da4ee35d-2f16-4a8a-8418-ebe4aa9c4a28",
   "metadata": {},
   "outputs": [
    {
     "name": "stdin",
     "output_type": "stream",
     "text": [
      "Enter your name:  chandana\n"
     ]
    },
    {
     "name": "stdout",
     "output_type": "stream",
     "text": [
      "8\n"
     ]
    }
   ],
   "source": [
    "n=input(\"Enter your name: \")\n",
    "count=0\n",
    "for i in n:\n",
    "    count+=1\n",
    "print(count)"
   ]
  },
  {
   "cell_type": "code",
   "execution_count": 9,
   "id": "8e46aa78-b390-4b14-9653-1d85b616c0fe",
   "metadata": {},
   "outputs": [
    {
     "data": {
      "text/plain": [
       "'welcome to bitlabs'"
      ]
     },
     "execution_count": 9,
     "metadata": {},
     "output_type": "execute_result"
    }
   ],
   "source": [
    "st=\"WELcome TO bitLABS\"\n",
    "st.lower()"
   ]
  },
  {
   "cell_type": "code",
   "execution_count": 12,
   "id": "9914bd7c-33e0-4d37-9d8b-4022fd371067",
   "metadata": {},
   "outputs": [
    {
     "data": {
      "text/plain": [
       "'WEDNESDAY'"
      ]
     },
     "execution_count": 12,
     "metadata": {},
     "output_type": "execute_result"
    }
   ],
   "source": [
    "st=\"wednesday\"\n",
    "st.upper()\n"
   ]
  },
  {
   "cell_type": "code",
   "execution_count": 15,
   "id": "51b31721-fa81-48ee-933a-249b093f92e6",
   "metadata": {},
   "outputs": [
    {
     "data": {
      "text/plain": [
       "'toDAY is FRIday'"
      ]
     },
     "execution_count": 15,
     "metadata": {},
     "output_type": "execute_result"
    }
   ],
   "source": [
    "str=\"TOday IS friDAY\"\n",
    "str.swapcase()"
   ]
  },
  {
   "cell_type": "code",
   "execution_count": 17,
   "id": "621963ee-4b06-4739-98c5-b7cde5e73e7c",
   "metadata": {},
   "outputs": [
    {
     "data": {
      "text/plain": [
       "False"
      ]
     },
     "execution_count": 17,
     "metadata": {},
     "output_type": "execute_result"
    }
   ],
   "source": [
    "str.isalpha()"
   ]
  },
  {
   "cell_type": "code",
   "execution_count": 18,
   "id": "40ccbcb0-988a-4cb2-bcc2-9fc4d3493757",
   "metadata": {},
   "outputs": [
    {
     "data": {
      "text/plain": [
       "False"
      ]
     },
     "execution_count": 18,
     "metadata": {},
     "output_type": "execute_result"
    }
   ],
   "source": [
    "str.islower()"
   ]
  },
  {
   "cell_type": "code",
   "execution_count": 19,
   "id": "bdd0583f-9f91-42c7-8c59-425fb5cff1da",
   "metadata": {},
   "outputs": [
    {
     "data": {
      "text/plain": [
       "False"
      ]
     },
     "execution_count": 19,
     "metadata": {},
     "output_type": "execute_result"
    }
   ],
   "source": [
    "str.isupper()"
   ]
  },
  {
   "cell_type": "code",
   "execution_count": null,
   "id": "130f3322-8d57-424d-a130-05ecc2e0df7c",
   "metadata": {},
   "outputs": [],
   "source": []
  }
 ],
 "metadata": {
  "kernelspec": {
   "display_name": "Python 3 (ipykernel)",
   "language": "python",
   "name": "python3"
  },
  "language_info": {
   "codemirror_mode": {
    "name": "ipython",
    "version": 3
   },
   "file_extension": ".py",
   "mimetype": "text/x-python",
   "name": "python",
   "nbconvert_exporter": "python",
   "pygments_lexer": "ipython3",
   "version": "3.11.7"
  }
 },
 "nbformat": 4,
 "nbformat_minor": 5
}
