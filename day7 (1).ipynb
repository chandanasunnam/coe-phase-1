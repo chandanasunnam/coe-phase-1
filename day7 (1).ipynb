{
 "cells": [
  {
   "cell_type": "code",
   "execution_count": 1,
   "id": "d0a332f4-61ca-4140-83a7-6928e0af093f",
   "metadata": {},
   "outputs": [
    {
     "name": "stdin",
     "output_type": "stream",
     "text": [
      "Enter the value:  45\n",
      "Enter the value:  78\n",
      "Enter the value:  96\n"
     ]
    },
    {
     "name": "stdout",
     "output_type": "stream",
     "text": [
      "c is greater \n"
     ]
    }
   ],
   "source": [
    "#check greater number between 3 numbers\n",
    "a=int(input(\"Enter the value: \"))\n",
    "b=int(input(\"Enter the value: \"))\n",
    "c=int(input(\"Enter the value: \"))\n",
    "if a>=b and a>=c:\n",
    "     print(\"a is greater \")\n",
    "elif b>=c and b>=a:\n",
    "     print(\"b is greater \")\n",
    "else:\n",
    "    print(\"c is greater \")\n",
    "    \n"
   ]
  },
  {
   "cell_type": "code",
   "execution_count": 5,
   "id": "8735d232-83e5-4235-afba-3b53b0caca48",
   "metadata": {},
   "outputs": [
    {
     "name": "stdin",
     "output_type": "stream",
     "text": [
      "Enter the value:  90\n"
     ]
    },
    {
     "name": "stdout",
     "output_type": "stream",
     "text": [
      "The number is positive\n"
     ]
    }
   ],
   "source": [
    "#nested if \n",
    "#check a number is xero or positive or negative\n",
    "\n",
    "a=int(input(\"Enter the value: \"))\n",
    "if a>=0:\n",
    "    if a==0:\n",
    "        print(\"The number is zero\")\n",
    "    if a>=0:\n",
    "        print(\"The number is positive\")\n",
    "else:\n",
    "    print(\"the number is negative\")\n"
   ]
  },
  {
   "cell_type": "code",
   "execution_count": 7,
   "id": "d60d1fa2-717e-4286-8df5-9575ae7efcc5",
   "metadata": {},
   "outputs": [
    {
     "name": "stdout",
     "output_type": "stream",
     "text": [
      "{3, 4, 5, 6}\n"
     ]
    }
   ],
   "source": [
    "s=set([3,4,5,6])\n",
    "print(s)"
   ]
  },
  {
   "cell_type": "code",
   "execution_count": 8,
   "id": "23d0debb-c469-4929-a723-49ed935ef9f7",
   "metadata": {},
   "outputs": [
    {
     "name": "stdout",
     "output_type": "stream",
     "text": [
      "{1, 2, 3, 4, 5, 6, 7, 8}\n"
     ]
    }
   ],
   "source": [
    "a={1,2,3,4,5}\n",
    "b={4,5,6,7,8}\n",
    "print(a|b) #union"
   ]
  },
  {
   "cell_type": "code",
   "execution_count": 10,
   "id": "6d2672d2-a417-43cc-b460-b21e8f145a01",
   "metadata": {},
   "outputs": [
    {
     "data": {
      "text/plain": [
       "{1, 2, 3, 4, 5, 6, 7, 8}"
      ]
     },
     "execution_count": 10,
     "metadata": {},
     "output_type": "execute_result"
    }
   ],
   "source": [
    "a={1,2,3,4,5}\n",
    "b={4,5,6,7,8}\n",
    "a.union(b)\n",
    "\n"
   ]
  },
  {
   "cell_type": "code",
   "execution_count": 11,
   "id": "4f839368-8f78-4a06-9fca-e843bd48a631",
   "metadata": {},
   "outputs": [
    {
     "name": "stdout",
     "output_type": "stream",
     "text": [
      "{4, 5}\n"
     ]
    }
   ],
   "source": [
    "a={1,2,3,4,5}\n",
    "b={4,5,6,7,8}\n",
    "print(a&b) #intersection"
   ]
  },
  {
   "cell_type": "code",
   "execution_count": 13,
   "id": "bb7b0915-a02b-4a5d-9572-3312ba4639ce",
   "metadata": {},
   "outputs": [
    {
     "name": "stdout",
     "output_type": "stream",
     "text": [
      "{1, 2, 3}\n",
      "{8, 6, 7}\n"
     ]
    }
   ],
   "source": [
    "a={1,2,3,4,5}\n",
    "b={4,5,6,7,8}\n",
    "print(a-b)\n",
    "print(b-a)"
   ]
  },
  {
   "cell_type": "code",
   "execution_count": 14,
   "id": "b4b44edf-59dd-4838-8b20-e87026de7488",
   "metadata": {},
   "outputs": [
    {
     "name": "stdout",
     "output_type": "stream",
     "text": [
      "{1, 2, 3, 6, 7, 8}\n"
     ]
    }
   ],
   "source": [
    "a={1,2,3,4,5}\n",
    "b={4,5,6,7,8}\n",
    "print(a^b)"
   ]
  },
  {
   "cell_type": "code",
   "execution_count": 19,
   "id": "0545f78d-1f0f-4410-8b1c-fd32e6d77783",
   "metadata": {},
   "outputs": [
    {
     "name": "stdout",
     "output_type": "stream",
     "text": [
      "All students enrolled at least one program:  {'Koushik', 'Swathi', 'Alice', 'Chandana', 'Bob', 'Charlie', 'Vishal'}\n",
      "Students who enrolled in both programs: {'Vishal'}\n",
      "only in csm but not in it: {'Alice', 'Bob', 'Charlie'}\n",
      "students who are unique: {'Alice', 'Koushik', 'Swathi', 'Chandana', 'Bob', 'Charlie'}\n"
     ]
    }
   ],
   "source": [
    "it={\"Alice\", \"Bob\", \"Charlie\", \"Vishal\"}\n",
    "csm={\"Koushik\", \"Chandana\", \"Swathi\", \"Vishal\"}\n",
    "print(\"All students enrolled at least one program: \", csm|it)\n",
    "print(\"Students who enrolled in both programs:\", csm&it)\n",
    "print(\"only in csm but not in it:\", it-csm)\n",
    "print(\"students who are unique:\",csm^it)"
   ]
  },
  {
   "cell_type": "code",
   "execution_count": 23,
   "id": "65c8bd89-8ed3-412c-89e1-4928e78db0c1",
   "metadata": {},
   "outputs": [
    {
     "name": "stdout",
     "output_type": "stream",
     "text": [
      "{1, 2, 3, 4, 5}\n"
     ]
    }
   ],
   "source": [
    "a={1,2,3,4,5}\n",
    "b=a.copy()\n",
    "print(b)"
   ]
  },
  {
   "cell_type": "code",
   "execution_count": 25,
   "id": "b56d41cf-4add-4fb2-b4b6-9c5dfd421c65",
   "metadata": {},
   "outputs": [
    {
     "data": {
      "text/plain": [
       "{1, 2, 3, 4, 5, 9}"
      ]
     },
     "execution_count": 25,
     "metadata": {},
     "output_type": "execute_result"
    }
   ],
   "source": [
    "a={1,2,3,4,5}\n",
    "a.add(9)\n",
    "a"
   ]
  },
  {
   "cell_type": "code",
   "execution_count": 27,
   "id": "8ea4cddf-7bd9-49f7-b033-0a3446453adc",
   "metadata": {},
   "outputs": [
    {
     "data": {
      "text/plain": [
       "{'a': 10, 'b': 13, 'c': 22}"
      ]
     },
     "execution_count": 27,
     "metadata": {},
     "output_type": "execute_result"
    }
   ],
   "source": [
    "dictionary={'a':10, 'b': 13, 'c':22}\n",
    "dictionary"
   ]
  },
  {
   "cell_type": "code",
   "execution_count": 29,
   "id": "ebac7c93-ef59-498b-ac46-3ecfa71e50d1",
   "metadata": {},
   "outputs": [
    {
     "data": {
      "text/plain": [
       "{'Name': 'Chandana', 'Age': 21, 'Branch': 'Csm'}"
      ]
     },
     "execution_count": 29,
     "metadata": {},
     "output_type": "execute_result"
    }
   ],
   "source": [
    "d={'Name':'Chandana', 'Age': 20, 'Branch':'Csm'}\n",
    "d['Age']=21  #update\n",
    "d"
   ]
  },
  {
   "cell_type": "code",
   "execution_count": 34,
   "id": "ce63f445-1152-4e5d-ba2b-ae4b7e6be20b",
   "metadata": {},
   "outputs": [
    {
     "name": "stdout",
     "output_type": "stream",
     "text": [
      "{}\n"
     ]
    }
   ],
   "source": [
    "d={'Name':'Chandana', 'Age': 20, 'Branch':'Csm'}\n",
    "d.clear()\n",
    "print(d)"
   ]
  },
  {
   "cell_type": "code",
   "execution_count": 39,
   "id": "9d2f5eca-6ebc-40b7-ad6f-7a082f132218",
   "metadata": {},
   "outputs": [
    {
     "name": "stdout",
     "output_type": "stream",
     "text": [
      "Chandana\n",
      "20\n",
      "Csm\n"
     ]
    },
    {
     "data": {
      "text/plain": [
       "dict_items([('Name', 'Chandana'), ('Age', 20), ('Branch', 'Csm')])"
      ]
     },
     "execution_count": 39,
     "metadata": {},
     "output_type": "execute_result"
    }
   ],
   "source": [
    "d={'Name':'Chandana', 'Age': 20, 'Branch':'Csm'}\n",
    "print(d['Name'])\n",
    "print(d['Age'])\n",
    "print(d['Branch'])\n",
    "d.items()"
   ]
  },
  {
   "cell_type": "code",
   "execution_count": 61,
   "id": "40782701-5a53-4262-b552-00ab6a139cbc",
   "metadata": {},
   "outputs": [
    {
     "name": "stdout",
     "output_type": "stream",
     "text": [
      "Names and marks of students {'Swathi': 98, 'Chandana': 96, 'Koushik': 58, 'Bharath': 25}\n",
      "updated Names and marks of students {'Swathi': 98, 'Chandana': 96, 'Koushik': 58, 'Bharath': 25, 'Tanvi': 58}\n",
      "updating Bharath marks: {'Swathi': 98, 'Chandana': 96, 'Koushik': 58, 'Bharath': 76, 'Tanvi': 58}\n",
      "After deleting koushik {'Swathi': 98, 'Chandana': 96, 'Bharath': 76, 'Tanvi': 58}\n",
      "Topper is: Swathi with marks: 98\n",
      "The average marks are 82.00.\n"
     ]
    }
   ],
   "source": [
    "student_marks={\n",
    "    \"Swathi\": 98,\n",
    "    \"Chandana\":96,\n",
    "    \"Koushik\":58,\n",
    "    \"Bharath\":25,\n",
    "}\n",
    "print(\"Names and marks of students\", student_marks)\n",
    "student_marks['Tanvi']= 58\n",
    "print(\"updated Names and marks of students\", student_marks)\n",
    "student_marks['Bharath']=76\n",
    "print(\"updating Bharath marks:\",student_marks)\n",
    "student_marks.pop('Koushik')\n",
    "print(\"After deleting koushik\",student_marks)\n",
    "topper = max(student_marks, key=student_marks.get)\n",
    "print(\"Topper is:\", topper, \"with marks:\", student_marks[topper])\n",
    "average_marks = sum(student_marks.values()) / len(student_marks)\n",
    "print(f\"The average marks are {average_marks:.2f}.\")\n"
   ]
  },
  {
   "cell_type": "code",
   "execution_count": 65,
   "id": "cdd46a6c-23c9-4af5-9810-00fff54f17fe",
   "metadata": {},
   "outputs": [
    {
     "name": "stdout",
     "output_type": "stream",
     "text": [
      "The sum is 96\n"
     ]
    }
   ],
   "source": [
    "def add():\n",
    "    a=190;\n",
    "    b=890;\n",
    "    c=a+b;\n",
    "print(\"The sum is\",c)\n",
    "add()"
   ]
  },
  {
   "cell_type": "code",
   "execution_count": 67,
   "id": "f9e59264-cbda-4f63-8807-1c30361f7169",
   "metadata": {},
   "outputs": [
    {
     "name": "stdout",
     "output_type": "stream",
     "text": [
      "The sum is 1691\n"
     ]
    }
   ],
   "source": [
    "def add(a,b):\n",
    "    c=a+b;\n",
    "    print(\"The sum is\",c)\n",
    "add(865,826)"
   ]
  },
  {
   "cell_type": "code",
   "execution_count": 73,
   "id": "a9a0c8d3-5f97-4860-90c0-01a0158308ee",
   "metadata": {},
   "outputs": [
    {
     "name": "stdin",
     "output_type": "stream",
     "text": [
      "Enter the value:  78\n",
      "Enter the value:  98\n"
     ]
    },
    {
     "name": "stdout",
     "output_type": "stream",
     "text": [
      "Area of the rectangle 7644\n"
     ]
    }
   ],
   "source": [
    "def area():\n",
    "    l=int(input(\"Enter the value: \"))\n",
    "    b=int(input(\"Enter the value: \"))\n",
    "    rec=l*b;\n",
    "    print(\"Area of the rectangle\",rec)\n",
    "rectangle=area()\n"
   ]
  },
  {
   "cell_type": "code",
   "execution_count": 74,
   "id": "51a6090a-4370-4eab-81ce-ff4a7ad9f055",
   "metadata": {},
   "outputs": [
    {
     "name": "stdin",
     "output_type": "stream",
     "text": [
      "Enter the value:  78\n",
      "Enter the value:  90\n"
     ]
    },
    {
     "name": "stdout",
     "output_type": "stream",
     "text": [
      "Area of the rectangle 7020\n"
     ]
    }
   ],
   "source": [
    "def area(x,y):\n",
    "    print(\"Area of the rectangle\",x*y)\n",
    "l=int(input(\"Enter the value: \"))\n",
    "b=int(input(\"Enter the value: \"))\n",
    "rectangle=area(l,b)\n"
   ]
  },
  {
   "cell_type": "code",
   "execution_count": 75,
   "id": "f989d70d-e5ea-49ba-9595-bda118b78a54",
   "metadata": {},
   "outputs": [
    {
     "name": "stdin",
     "output_type": "stream",
     "text": [
      "Enter the value:  5\n"
     ]
    },
    {
     "name": "stdout",
     "output_type": "stream",
     "text": [
      "Factorial of (n) is 120\n"
     ]
    }
   ],
   "source": [
    "#factorial\n",
    "def fact(n):\n",
    "    sum=1\n",
    "    for i in range (1,n+1):\n",
    "        sum*=i\n",
    "    print(f\"Factorial of (n) is {sum}\")\n",
    "n=int(input(\"Enter the value: \"))\n",
    "fact(n)"
   ]
  },
  {
   "cell_type": "code",
   "execution_count": 78,
   "id": "af22278d-0e81-459f-ad02-66901032a698",
   "metadata": {},
   "outputs": [
    {
     "name": "stdout",
     "output_type": "stream",
     "text": [
      "30\n"
     ]
    }
   ],
   "source": [
    "def add(a,b):\n",
    "    c=a+b;\n",
    "    return c\n",
    "result= add(10,20);\n",
    "print(result);"
   ]
  },
  {
   "cell_type": "code",
   "execution_count": 79,
   "id": "575be086-c1be-4c15-a591-f3c96aab1926",
   "metadata": {},
   "outputs": [
    {
     "name": "stdin",
     "output_type": "stream",
     "text": [
      "Enter the value:  5\n"
     ]
    },
    {
     "data": {
      "text/plain": [
       "120"
      ]
     },
     "execution_count": 79,
     "metadata": {},
     "output_type": "execute_result"
    }
   ],
   "source": [
    "#factorial\n",
    "def fact(n):\n",
    "    sum=1\n",
    "    for i in range (1,n+1):\n",
    "        sum*=i\n",
    "    return sum\n",
    "n=int(input(\"Enter the value: \"))\n",
    "fact(n)"
   ]
  },
  {
   "cell_type": "code",
   "execution_count": 83,
   "id": "c2fa8e1a-b0a8-4b4b-b142-78b13a7f195c",
   "metadata": {},
   "outputs": [
    {
     "name": "stdin",
     "output_type": "stream",
     "text": [
      "Enter the value:  5\n"
     ]
    },
    {
     "name": "stdout",
     "output_type": "stream",
     "text": [
      "the factorial is 120\n"
     ]
    }
   ],
   "source": [
    "def fact():\n",
    "    n=int(input(\"Enter the value: \"))\n",
    "    sum=1\n",
    "    for i in range (1,n+1):\n",
    "        sum*=i\n",
    "    return sum\n",
    "num=fact()\n",
    "print(\"the factorial is\",num)"
   ]
  },
  {
   "cell_type": "code",
   "execution_count": 85,
   "id": "29ea6786-9ab0-47b8-8a35-ae924f842a1e",
   "metadata": {},
   "outputs": [
    {
     "name": "stdout",
     "output_type": "stream",
     "text": [
      "emp number ; 111\n",
      "emp name ; aaa\n",
      "emp salary ; 10000\n"
     ]
    }
   ],
   "source": [
    "class emp:\n",
    "    def empData(self):\n",
    "        self.eno=111\n",
    "        self.ename=\"aaa\"\n",
    "        self.esal=10000\n",
    "        print(\"emp number ;\",self.eno)\n",
    "        print(\"emp name ;\",self.ename)\n",
    "        print(\"emp salary ;\",self.esal)\n",
    "e=emp()\n",
    "e.empData()"
   ]
  },
  {
   "cell_type": "code",
   "execution_count": 89,
   "id": "656b491b-5db0-45e8-9b40-61f8a22ba7cc",
   "metadata": {},
   "outputs": [
    {
     "name": "stdin",
     "output_type": "stream",
     "text": [
      "Enter the employee number:  90\n",
      "Enter the employee name:  chandana\n",
      "Enter the employye salary:  10000\n"
     ]
    },
    {
     "name": "stdout",
     "output_type": "stream",
     "text": [
      "emp number : 90\n",
      "emp name : chandana\n",
      "emp salary : 10000.0\n"
     ]
    }
   ],
   "source": [
    "class emp:\n",
    "    def getData(self):\n",
    "        self.eno=int(input(\"Enter the employee number: \"))\n",
    "        self.ename=input(\"Enter the employee name: \")\n",
    "        self.esal=float(input(\"Enter the employye salary: \"))\n",
    "    def dispdata(self):\n",
    "        print(\"emp number :\",self.eno)\n",
    "        print(\"emp name :\",self.ename)\n",
    "        print(\"emp salary :\",self.esal)\n",
    "        \n",
    "e=emp()\n",
    "e.getData()\n",
    "e.dispdata()"
   ]
  },
  {
   "cell_type": "code",
   "execution_count": 91,
   "id": "ca5d3a90-bdae-4329-9ddd-1be1152afd23",
   "metadata": {},
   "outputs": [
    {
     "name": "stdout",
     "output_type": "stream",
     "text": [
      "Requirement already satisfied: numpy in c:\\users\\chandana\\anaconda3\\lib\\site-packages (1.26.4)Note: you may need to restart the kernel to use updated packages.\n",
      "\n"
     ]
    }
   ],
   "source": [
    "pip install numpy\n"
   ]
  },
  {
   "cell_type": "code",
   "execution_count": 6,
   "id": "282392ec-9f7b-468c-9696-2c861aef7078",
   "metadata": {},
   "outputs": [
    {
     "name": "stdout",
     "output_type": "stream",
     "text": [
      "[1 2 3]\n",
      "[[1 2 3]\n",
      " [4 5 6]]\n",
      "[[1 2 3]\n",
      " [4 5 6]\n",
      " [7 8 9]]\n"
     ]
    }
   ],
   "source": [
    "import numpy as np\n",
    "arr_1d=np.array([1,2,3])\n",
    "print(arr_1d)\n",
    "arr_2d=np.array([[1,2,3], [4,5,6]])\n",
    "print(arr_2d)\n",
    "arr_3d=np.array([[1,2,3], [4,5,6], [7,8,9]])\n",
    "print(arr_3d)"
   ]
  },
  {
   "cell_type": "code",
   "execution_count": 8,
   "id": "3b20374c-4ce1-4cc8-a821-fbcc096cc5e6",
   "metadata": {},
   "outputs": [
    {
     "name": "stdout",
     "output_type": "stream",
     "text": [
      "[[0. 0. 0.]\n",
      " [0. 0. 0.]]\n"
     ]
    }
   ],
   "source": [
    "import numpy as np\n",
    "arr_3d=np.zeros((2,3))\n",
    "print(arr_3d)"
   ]
  },
  {
   "cell_type": "code",
   "execution_count": 9,
   "id": "af6eabfb-474b-43e3-8ca9-1c90d06b342a",
   "metadata": {},
   "outputs": [
    {
     "name": "stdout",
     "output_type": "stream",
     "text": [
      "[[0. 0. 0.]\n",
      " [0. 0. 0.]\n",
      " [0. 0. 0.]]\n"
     ]
    }
   ],
   "source": [
    "import numpy as np\n",
    "arr_3d=np.zeros((3,3))\n",
    "print(arr_3d)"
   ]
  },
  {
   "cell_type": "code",
   "execution_count": 10,
   "id": "451957eb-1394-44be-9154-a67d01a08fad",
   "metadata": {},
   "outputs": [
    {
     "name": "stdout",
     "output_type": "stream",
     "text": [
      "[[1. 1. 1.]\n",
      " [1. 1. 1.]]\n"
     ]
    }
   ],
   "source": [
    "import numpy as np\n",
    "arr_3d=np.ones((2,3))\n",
    "print(arr_3d)"
   ]
  },
  {
   "cell_type": "code",
   "execution_count": 11,
   "id": "b65fef51-fb0b-41d0-aadf-0c35aa74945a",
   "metadata": {},
   "outputs": [
    {
     "name": "stdout",
     "output_type": "stream",
     "text": [
      "[[0.95451941 0.32108859]\n",
      " [0.90405714 0.96037909]]\n"
     ]
    }
   ],
   "source": [
    "random_arr=np.random.random((2,2))\n",
    "print(random_arr)\n"
   ]
  },
  {
   "cell_type": "code",
   "execution_count": 12,
   "id": "3226bed3-a92c-439c-af5d-8f89cdbbefb5",
   "metadata": {},
   "outputs": [
    {
     "name": "stdout",
     "output_type": "stream",
     "text": [
      "[[1. 0. 0.]\n",
      " [0. 1. 0.]\n",
      " [0. 0. 1.]]\n"
     ]
    }
   ],
   "source": [
    "identity=np.eye(3)\n",
    "print(identity)"
   ]
  },
  {
   "cell_type": "code",
   "execution_count": 13,
   "id": "54bd8785-3eb0-4a5f-a837-d11df925976e",
   "metadata": {},
   "outputs": [
    {
     "name": "stdout",
     "output_type": "stream",
     "text": [
      "[0 2 4 6 8]\n"
     ]
    }
   ],
   "source": [
    "range_arr=np.arange(0,10,2)\n",
    "print(range_arr)"
   ]
  },
  {
   "cell_type": "code",
   "execution_count": 14,
   "id": "9abe8432-0780-4b88-97be-0b554050b7a9",
   "metadata": {},
   "outputs": [
    {
     "name": "stdout",
     "output_type": "stream",
     "text": [
      "Shape: (2, 3)\n",
      "Size: 6\n",
      "Data Type: int32\n",
      "dimensions: 2\n"
     ]
    }
   ],
   "source": [
    "arr=np.array([[1,2,3], [4,5,6]])\n",
    "print(\"Shape:\",arr.shape)\n",
    "print(\"Size:\",arr.size)\n",
    "print(\"Data Type:\",arr.dtype)\n",
    "print(\"dimensions:\",arr.ndim)\n",
    "\n"
   ]
  },
  {
   "cell_type": "code",
   "execution_count": 17,
   "id": "03a0bff7-5cb2-415c-8932-7df547319e4d",
   "metadata": {},
   "outputs": [
    {
     "name": "stdout",
     "output_type": "stream",
     "text": [
      "Shape: (2, 3)\n",
      "Size: 6\n",
      "Data Type: int32\n",
      "dimensions: 2\n",
      "[[1 2 3]\n",
      " [4 5 6]]\n",
      "[[2 3]\n",
      " [5 6]]\n"
     ]
    }
   ],
   "source": [
    "arr=np.array([[1,2,3], [4,5,6]])\n",
    "print(\"Shape:\",arr.shape)\n",
    "print(\"Size:\",arr.size)\n",
    "print(\"Data Type:\",arr.dtype)\n",
    "print(\"dimensions:\",arr.ndim)\n",
    "print(arr)\n",
    "arr1=arr[:,1:]\n",
    "print(arr1)"
   ]
  },
  {
   "cell_type": "code",
   "execution_count": 19,
   "id": "cd51bc83-ddf2-4529-8739-6c76d0cf3dd0",
   "metadata": {},
   "outputs": [
    {
     "name": "stdout",
     "output_type": "stream",
     "text": [
      "[6, 8, 10, 12]\n"
     ]
    }
   ],
   "source": [
    "list1=[1,2,3,4]\n",
    "list2=[5,6,7,8]\n",
    "list=[a + b for a, b in zip(list1, list2)]\n",
    "print(list)"
   ]
  },
  {
   "cell_type": "code",
   "execution_count": 20,
   "id": "7c0db9b2-9a87-4973-a5de-6151437cb650",
   "metadata": {},
   "outputs": [
    {
     "name": "stdout",
     "output_type": "stream",
     "text": [
      "[5 7 9]\n",
      "[ 4 10 18]\n",
      "[2 4 6]\n"
     ]
    }
   ],
   "source": [
    "#arithmetic operator\n",
    "a=np.array([1,2,3])\n",
    "b=np.array([4,5,6])\n",
    "print(a+b)\n",
    "print(a*b)\n",
    "print(a*2)"
   ]
  },
  {
   "cell_type": "code",
   "execution_count": 21,
   "id": "cd2171cd-cda2-4a79-8e9d-259ae4d4b6f6",
   "metadata": {},
   "outputs": [
    {
     "name": "stdout",
     "output_type": "stream",
     "text": [
      "[[19 22]\n",
      " [43 50]]\n"
     ]
    }
   ],
   "source": [
    "mat1=np.array([[1,2], [3,4]])\n",
    "mat2=np.array([[5,6], [7,8]])\n",
    "result=np.dot(mat1,mat2)\n",
    "print(result)"
   ]
  },
  {
   "cell_type": "code",
   "execution_count": 22,
   "id": "c456ad9c-a30f-4521-9c6b-06c7b09faa8c",
   "metadata": {},
   "outputs": [
    {
     "name": "stdout",
     "output_type": "stream",
     "text": [
      "[ 9 10 11]\n"
     ]
    }
   ],
   "source": [
    "#broadcasting\n",
    "a=np.array([1,2,3])\n",
    "b=8\n",
    "print(a+b)\n"
   ]
  },
  {
   "cell_type": "code",
   "execution_count": 24,
   "id": "1e91db26-2444-448a-aa8d-df51774d56dd",
   "metadata": {},
   "outputs": [
    {
     "name": "stdout",
     "output_type": "stream",
     "text": [
      "[ 2.71828183  7.3890561  20.08553692]\n",
      "[1.         1.41421356 1.73205081]\n",
      "[0.         0.69314718 1.09861229]\n"
     ]
    }
   ],
   "source": [
    "#universal funtions\n",
    "arr=np.array([1,2,3])\n",
    "print(np.exp(arr))\n",
    "print(np.sqrt(arr))\n",
    "print(np.log(arr))"
   ]
  },
  {
   "cell_type": "code",
   "execution_count": 25,
   "id": "167a86fe-1cad-4e22-a7d7-5c7599c85e31",
   "metadata": {},
   "outputs": [
    {
     "name": "stdout",
     "output_type": "stream",
     "text": [
      "Sum: 6\n",
      "Mean: 2.0\n",
      "Standard Deviation: 0.816496580927726\n",
      "Max: 3\n",
      "Min: 1\n"
     ]
    }
   ],
   "source": [
    "arr=np.array([1,2,3])\n",
    "print(\"Sum:\",np.sum(arr))\n",
    "print(\"Mean:\",np.mean(arr))\n",
    "print(\"Standard Deviation:\",np.std(arr))\n",
    "print(\"Max:\",np.max(arr))\n",
    "print(\"Min:\",np.min(arr))"
   ]
  },
  {
   "cell_type": "code",
   "execution_count": 26,
   "id": "d260d31f-4cbb-415d-abd6-9f7900e2a1e6",
   "metadata": {},
   "outputs": [
    {
     "name": "stdout",
     "output_type": "stream",
     "text": [
      "[[1 2 3]\n",
      " [4 5 6]]\n"
     ]
    }
   ],
   "source": [
    "arr=np.array([1,2,3,4,5,6])\n",
    "reshaped=arr.reshape(2,3)\n",
    "print(reshaped)"
   ]
  },
  {
   "cell_type": "code",
   "execution_count": 27,
   "id": "ed7c9023-c59f-4ebc-bda0-5790d7387826",
   "metadata": {},
   "outputs": [
    {
     "name": "stdout",
     "output_type": "stream",
     "text": [
      "[[1 2]\n",
      " [4 5]]\n",
      "[1 2 4 5]\n"
     ]
    }
   ],
   "source": [
    "#stacking\n",
    "a=np.array([1,2])\n",
    "b=np.array([4,5])\n",
    "print(np.vstack((a,b)))\n",
    "print(np.hstack((a,b)))\n",
    "\n"
   ]
  },
  {
   "cell_type": "code",
   "execution_count": 29,
   "id": "4db822e5-4ac0-4011-86a6-34e5ab0ca493",
   "metadata": {},
   "outputs": [
    {
     "name": "stdout",
     "output_type": "stream",
     "text": [
      "[array([1, 2]), array([3, 4]), array([5, 6])]\n"
     ]
    }
   ],
   "source": [
    "arr=np.array([1,2,3,4,5,6])\n",
    "print(np.array_split(arr,3))"
   ]
  },
  {
   "cell_type": "code",
   "execution_count": 33,
   "id": "36816f03-3e7b-43ba-bd9a-432d555dbbab",
   "metadata": {},
   "outputs": [
    {
     "name": "stdout",
     "output_type": "stream",
     "text": [
      "[10  2  3]\n",
      "[10  2  3]\n"
     ]
    }
   ],
   "source": [
    "arr=np.array([1,2,3])\n",
    "view=arr.view()\n",
    "view[0]=10\n",
    "print(arr) #view shares memory\n",
    "\n",
    "copy=arr.copy()\n",
    "copy[0]=10   #shares memory\n",
    "print(arr)"
   ]
  },
  {
   "cell_type": "code",
   "execution_count": 36,
   "id": "c1a61623-1ca8-4073-b9d6-0cb1edbb4759",
   "metadata": {},
   "outputs": [
    {
     "name": "stdout",
     "output_type": "stream",
     "text": [
      "[10 20 30 40 50]\n"
     ]
    }
   ],
   "source": [
    "arr = np.arange(10, 51,10)\n",
    "print(arr)"
   ]
  },
  {
   "cell_type": "code",
   "execution_count": 37,
   "id": "6eeb4ecd-0abe-4fb4-8d56-d133005d2bbc",
   "metadata": {},
   "outputs": [
    {
     "name": "stdout",
     "output_type": "stream",
     "text": [
      "[[0.16275034 0.17639546 0.76725053]\n",
      " [0.91698403 0.47182894 0.06206232]\n",
      " [0.11996846 0.61731601 0.64673012]]\n"
     ]
    }
   ],
   "source": [
    "arr = np.random.rand(3, 3)\n",
    "print(arr)"
   ]
  },
  {
   "cell_type": "code",
   "execution_count": 38,
   "id": "e36bbae7-3930-4ae5-84aa-11cf714dd496",
   "metadata": {},
   "outputs": [
    {
     "name": "stdout",
     "output_type": "stream",
     "text": [
      "[[0.80173502 0.89877144 0.63887478]\n",
      " [0.01829161 0.37067057 0.76380165]\n",
      " [0.29035175 0.52353277 0.54550808]]\n",
      "Sum: 4.8515376552614375\n",
      "Mean: 0.5390597394734931\n",
      "Standard Deviation: 0.2625844756240852\n",
      "Max: 0.8987714360040713\n",
      "Min: 0.01829161252436473\n"
     ]
    }
   ],
   "source": [
    "arr = np.random.rand(3, 3)\n",
    "print(arr)\n",
    "print(\"Sum:\",np.sum(arr))\n",
    "print(\"Mean:\",np.mean(arr))\n",
    "print(\"Standard Deviation:\",np.std(arr))\n",
    "print(\"Max:\",np.max(arr))\n",
    "print(\"Min:\",np.min(arr))"
   ]
  },
  {
   "cell_type": "code",
   "execution_count": 39,
   "id": "1f6cb4d4-8a28-4e4b-9368-5d5ffac43cc2",
   "metadata": {},
   "outputs": [
    {
     "name": "stdout",
     "output_type": "stream",
     "text": [
      "[ 6 13 14]\n"
     ]
    }
   ],
   "source": [
    "a=np.array([1,8,9])\n",
    "b=5\n",
    "print(a+b)\n"
   ]
  },
  {
   "cell_type": "code",
   "execution_count": 40,
   "id": "f8711add-9a37-4739-b692-c8c9c49a0edf",
   "metadata": {},
   "outputs": [
    {
     "name": "stdout",
     "output_type": "stream",
     "text": [
      "[[ 71  82]\n",
      " [ 87 102]]\n"
     ]
    }
   ],
   "source": [
    "mat1=np.array([[3,8], [9,6]])\n",
    "mat2=np.array([[5,6], [7,8]])\n",
    "result=np.dot(mat1,mat2)\n",
    "print(result)"
   ]
  },
  {
   "cell_type": "code",
   "execution_count": 53,
   "id": "8f5775e1-4220-49df-ad9e-89b04249d0d4",
   "metadata": {},
   "outputs": [
    {
     "name": "stdout",
     "output_type": "stream",
     "text": [
      "[[ 1  2  3  4  5]\n",
      " [ 6  7  8  9 10]\n",
      " [11 12 13 14 15]\n",
      " [16 17 18 19 20]\n",
      " [21 22 23 24 25]]\n",
      "The first row is  [1 2 3 4 5]\n",
      "The last column is: [ 5 10 15 20 25]\n",
      "The subarray is: [[ 1  2  3  4  5]\n",
      " [ 6  7  8  9 10]\n",
      " [11 12 13 14 15]]\n"
     ]
    }
   ],
   "source": [
    "arr = np.arange(1, 26).reshape(5, 5)\n",
    "print(arr)\n",
    "first_row = arr[0]\n",
    "print(\"The first row is \",first_row)\n",
    "last_col=arr[:,-1]\n",
    "print(\"The last column is:\",last_col)\n",
    "subarray=arr[0:3]\n",
    "print(\"The subarray is:\",subarray)"
   ]
  },
  {
   "cell_type": "code",
   "execution_count": null,
   "id": "ff29230e-ebee-484d-b663-4f0b58df84e8",
   "metadata": {},
   "outputs": [],
   "source": []
  }
 ],
 "metadata": {
  "kernelspec": {
   "display_name": "Python 3 (ipykernel)",
   "language": "python",
   "name": "python3"
  },
  "language_info": {
   "codemirror_mode": {
    "name": "ipython",
    "version": 3
   },
   "file_extension": ".py",
   "mimetype": "text/x-python",
   "name": "python",
   "nbconvert_exporter": "python",
   "pygments_lexer": "ipython3",
   "version": "3.11.7"
  }
 },
 "nbformat": 4,
 "nbformat_minor": 5
}
