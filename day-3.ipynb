{
 "cells": [
  {
   "cell_type": "code",
   "execution_count": 1,
   "id": "478a2054-ced9-41f9-bd21-16b5f766065d",
   "metadata": {},
   "outputs": [
    {
     "name": "stdout",
     "output_type": "stream",
     "text": [
      "Hello\n"
     ]
    }
   ],
   "source": [
    "a=1\n",
    "if a<=10:\n",
    "    print(\"Hello\")"
   ]
  },
  {
   "cell_type": "code",
   "execution_count": 3,
   "id": "2c16b41a-c8d0-496e-95d7-789aafac6c12",
   "metadata": {},
   "outputs": [
    {
     "name": "stdout",
     "output_type": "stream",
     "text": [
      "5\n"
     ]
    }
   ],
   "source": [
    "num=95029\n",
    "count=0\n",
    "while num!=0:\n",
    "    num=num//10\n",
    "    count=count+1\n",
    "print(count)"
   ]
  },
  {
   "cell_type": "code",
   "execution_count": 7,
   "id": "665930f5-5107-4c36-948d-8ffe3bf08d95",
   "metadata": {},
   "outputs": [
    {
     "name": "stdout",
     "output_type": "stream",
     "text": [
      "No.of even digits:   2\n",
      "No.of odd digits:   4\n"
     ]
    }
   ],
   "source": [
    "num=783781\n",
    "rem=0\n",
    "ecount=0\n",
    "ocount=0\n",
    "while num!=0:\n",
    "    rem=num%10         #783781%10 ==> 1\n",
    "    if rem%2==0:\n",
    "        ecount=ecount+1              #1          #1\n",
    "    else:\n",
    "        ocount=ocount+1              #1          #2\n",
    "    num=num//10                      #78378      #78\n",
    "\n",
    "print(\"No.of even digits:  \",ecount)\n",
    "print(\"No.of odd digits:  \",ocount)"
   ]
  },
  {
   "cell_type": "code",
   "execution_count": 13,
   "id": "a7872436-06e2-4395-a1d5-615aa36aaa0d",
   "metadata": {},
   "outputs": [
    {
     "name": "stdout",
     "output_type": "stream",
     "text": [
      "prime\n",
      "No.of factors 1\n"
     ]
    }
   ],
   "source": [
    "num=11\n",
    "i=1\n",
    "count=0\n",
    "while i<=num//2:                     #1<=25\n",
    "    if num%i==0:                     #25%1\n",
    "        count=count+1\n",
    "    i=i+1\n",
    "if count==1:\n",
    "    print(\"prime\")\n",
    "else:\n",
    "    print(\"Not a prime\")\n",
    "print(\"No.of factors\",count)"
   ]
  },
  {
   "cell_type": "code",
   "execution_count": 17,
   "id": "1d098756-2be0-4ca6-9dc0-973ab9eb36a4",
   "metadata": {},
   "outputs": [
    {
     "name": "stdout",
     "output_type": "stream",
     "text": [
      "2\n",
      "3\n",
      "5\n",
      "7\n",
      "11\n",
      "13\n",
      "17\n",
      "19\n",
      "23\n",
      "29\n",
      "31\n",
      "37\n",
      "41\n",
      "43\n",
      "47\n",
      "53\n",
      "59\n",
      "61\n",
      "67\n",
      "71\n",
      "73\n",
      "79\n",
      "83\n",
      "89\n",
      "97\n"
     ]
    }
   ],
   "source": [
    "num = 2\n",
    "while num <= 100:\n",
    "    i = 1  \n",
    "    count = 0  \n",
    "    while i <= num // 2:\n",
    "        if num % i == 0:\n",
    "            count += 1\n",
    "        i += 1\n",
    "    if count == 1:  \n",
    "        print(num)\n",
    "    num += 1"
   ]
  },
  {
   "cell_type": "code",
   "execution_count": 1,
   "id": "714f51c3-dfe2-495d-b85c-59f84b7f8b32",
   "metadata": {},
   "outputs": [
    {
     "name": "stdout",
     "output_type": "stream",
     "text": [
      "swathi\n"
     ]
    }
   ],
   "source": [
    "str=\"swathi\"\n",
    "print(str)"
   ]
  },
  {
   "cell_type": "code",
   "execution_count": 3,
   "id": "7fd58fd5-8a63-491c-b008-6493eac4deff",
   "metadata": {},
   "outputs": [
    {
     "name": "stdout",
     "output_type": "stream",
     "text": [
      "hello\n",
      "guys\n"
     ]
    }
   ],
   "source": [
    "str='''hello\n",
    "guys'''\n",
    "print(str)"
   ]
  },
  {
   "cell_type": "code",
   "execution_count": 9,
   "id": "1f797015-df41-4474-8afb-cb0c37998ac3",
   "metadata": {},
   "outputs": [
    {
     "name": "stdout",
     "output_type": "stream",
     "text": [
      "SWATHI REDDY\n",
      "swathi reddy\n",
      "Swathi Reddy\n",
      "Swathi reddy\n"
     ]
    }
   ],
   "source": [
    "str=\"swathi Reddy\"\n",
    "print(str.upper())\n",
    "print(str.lower())\n",
    "print(str.title())\n",
    "print(str.capitalize())"
   ]
  },
  {
   "cell_type": "code",
   "execution_count": 11,
   "id": "fc794b1e-a483-4402-a6a1-a95b155f7983",
   "metadata": {},
   "outputs": [
    {
     "name": "stdout",
     "output_type": "stream",
     "text": [
      "SWATHI REDDY\n",
      "swathi reddy\n",
      "Swathi Reddy\n",
      "Swathi reddy\n",
      "12\n"
     ]
    }
   ],
   "source": [
    "str=\"swathi Reddy\"\n",
    "print(str.upper())\n",
    "print(str.lower())\n",
    "print(str.title())\n",
    "print(str.capitalize())\n",
    "print(len(str))"
   ]
  },
  {
   "cell_type": "code",
   "execution_count": 13,
   "id": "83846932-5847-4834-8ba3-234c5003afa8",
   "metadata": {},
   "outputs": [
    {
     "name": "stdout",
     "output_type": "stream",
     "text": [
      "False\n",
      "False\n"
     ]
    }
   ],
   "source": [
    "str=\"swathi Reddy\"\n",
    "print(str.isupper())\n",
    "print(str.islower())"
   ]
  },
  {
   "cell_type": "code",
   "execution_count": 15,
   "id": "9e1d22a3-400b-41ab-8203-f391227521f1",
   "metadata": {},
   "outputs": [
    {
     "name": "stdout",
     "output_type": "stream",
     "text": [
      "True\n"
     ]
    }
   ],
   "source": [
    "str=\"12345\"\n",
    "print(str.isdigit())\n"
   ]
  },
  {
   "cell_type": "code",
   "execution_count": 17,
   "id": "10ecfdd6-2a4d-4ea4-9d23-a63bfebfb79f",
   "metadata": {},
   "outputs": [
    {
     "name": "stdout",
     "output_type": "stream",
     "text": [
      "True\n",
      "True\n"
     ]
    }
   ],
   "source": [
    "str=\"12345\"\n",
    "print(str.isdigit())\n",
    "print(str.isalnum())\n"
   ]
  },
  {
   "cell_type": "code",
   "execution_count": 19,
   "id": "bd07f6c2-bc1a-481a-81ad-4f769fef152b",
   "metadata": {},
   "outputs": [
    {
     "name": "stdout",
     "output_type": "stream",
     "text": [
      "False\n",
      "True\n"
     ]
    }
   ],
   "source": [
    "str=\"123AB\"\n",
    "print(str.isdigit())\n",
    "print(str.isalnum())\n"
   ]
  },
  {
   "cell_type": "code",
   "execution_count": 23,
   "id": "63db0a23-9879-4962-be45-c7cea6b66e27",
   "metadata": {},
   "outputs": [
    {
     "name": "stdout",
     "output_type": "stream",
     "text": [
      "False\n",
      "True\n",
      "False\n"
     ]
    }
   ],
   "source": [
    "str=\"123AB\"\n",
    "print(str.isdigit())\n",
    "print(str.isalnum())\n",
    "print(str.isspace())"
   ]
  },
  {
   "cell_type": "code",
   "execution_count": 27,
   "id": "0f79ba37-d567-42b6-90a9-0cd8b7c949f1",
   "metadata": {},
   "outputs": [
    {
     "name": "stdout",
     "output_type": "stream",
     "text": [
      "False\n"
     ]
    }
   ],
   "source": [
    "str=\"a b\"\n",
    "print(str.isspace())"
   ]
  },
  {
   "cell_type": "code",
   "execution_count": 29,
   "id": "56617e0b-68f4-49ad-a157-86e6c7074e7d",
   "metadata": {},
   "outputs": [
    {
     "name": "stdout",
     "output_type": "stream",
     "text": [
      "False\n"
     ]
    }
   ],
   "source": [
    "str='hello world'\n",
    "print(str.isspace())"
   ]
  },
  {
   "cell_type": "code",
   "execution_count": 33,
   "id": "4df465eb-b182-4481-90a9-c5ebd0c536fa",
   "metadata": {},
   "outputs": [
    {
     "name": "stdout",
     "output_type": "stream",
     "text": [
      "h\n",
      "i\n",
      " \n",
      "h\n",
      "e\n",
      "l\n",
      "l\n",
      "o\n",
      "h i   h e l l o "
     ]
    }
   ],
   "source": [
    "str=\"hi hello\"\n",
    "for i in str:\n",
    "    print(i)\n",
    "\n",
    "\n",
    "\n",
    "str=\"hi hello\"\n",
    "for i in str:\n",
    "    print(i,end=\" \")\n",
    "\n"
   ]
  },
  {
   "cell_type": "code",
   "execution_count": 35,
   "id": "575b1f4c-b2a2-48b0-a08d-25b6ed01bef2",
   "metadata": {},
   "outputs": [
    {
     "name": "stdout",
     "output_type": "stream",
     "text": [
      "number of digits:   6\n"
     ]
    }
   ],
   "source": [
    "str=\"Hi Hello vanakam 689419 @#*&%\"\n",
    "digit_count=sum(char.isdigit() for char in str)\n",
    "print(\"number of digits:  \",digit_count)"
   ]
  },
  {
   "cell_type": "code",
   "execution_count": 37,
   "id": "b4357fa3-a977-4eef-9f17-88766e721577",
   "metadata": {},
   "outputs": [
    {
     "name": "stdout",
     "output_type": "stream",
     "text": [
      "number of digits:   6\n",
      "number of alphabet:   14\n"
     ]
    }
   ],
   "source": [
    "str=\"Hi Hello vanakam 689419 @#*&%\"\n",
    "digit_count=sum(char.isdigit() for char in str)\n",
    "print(\"number of digits:  \",digit_count)\n",
    "\n",
    "acount=sum(char.isalpha() for char in str)\n",
    "print(\"number of alphabet:  \",acount)"
   ]
  },
  {
   "cell_type": "code",
   "execution_count": 41,
   "id": "1ecff8a0-81c2-4489-ae65-b1e2dbcc4145",
   "metadata": {},
   "outputs": [
    {
     "name": "stdout",
     "output_type": "stream",
     "text": [
      "number of digits:   6\n",
      "number of alphabet:   14\n",
      "number of vowel:   6\n"
     ]
    }
   ],
   "source": [
    "str=\"Hi Hello vanakam 689419 @#*&%\"\n",
    "digit_count=sum(char.isdigit() for char in str)\n",
    "print(\"number of digits:  \",digit_count)\n",
    "\n",
    "acount=sum(char.isalpha() for char in str)\n",
    "print(\"number of alphabet:  \",acount)\n",
    "vowel=\"aeiouAEIOU\"\n",
    "vcount=sum(char in vowel for char in str)\n",
    "print(\"number of vowel:  \",vcount)"
   ]
  },
  {
   "cell_type": "code",
   "execution_count": 43,
   "id": "679640b2-1883-4152-a198-8e0593205d3d",
   "metadata": {},
   "outputs": [
    {
     "name": "stdout",
     "output_type": "stream",
     "text": [
      "number of digits:   6\n",
      "number of alphabet:   14\n",
      "number of vowel:   6\n",
      "Number of special characters: 5\n"
     ]
    }
   ],
   "source": [
    "str=\"Hi Hello vanakam 689419 @#*&%\"\n",
    "digit_count=sum(char.isdigit() for char in str)\n",
    "print(\"number of digits:  \",digit_count)\n",
    "\n",
    "acount=sum(char.isalpha() for char in str)\n",
    "print(\"number of alphabet:  \",acount)\n",
    "vowel=\"aeiouAEIOU\"\n",
    "vcount=sum(char in vowel for char in str)\n",
    "print(\"number of vowel:  \",vcount)\n",
    "special_char_count = sum(not char.isalnum() and not char.isspace() for char in str)\n",
    "print(\"Number of special characters:\", special_char_count)"
   ]
  },
  {
   "cell_type": "code",
   "execution_count": 47,
   "id": "effc6fa1-6857-491f-ab10-fd50faac6b5a",
   "metadata": {},
   "outputs": [
    {
     "name": "stdout",
     "output_type": "stream",
     "text": [
      "number of digits:   6\n",
      "number of alphabet:   14\n",
      "number of vowel:   6\n",
      "Number of special characters: 5\n",
      "Number of spaces: 4\n"
     ]
    }
   ],
   "source": [
    "str=\"Hi Hello vanakam 689419 @#*&%\"\n",
    "digit_count=sum(char.isdigit() for char in str)\n",
    "print(\"number of digits:  \",digit_count)\n",
    "\n",
    "acount=sum(char.isalpha() for char in str)\n",
    "print(\"number of alphabet:  \",acount)\n",
    "vowel=\"aeiouAEIOU\"\n",
    "vcount=sum(char in vowel for char in str)\n",
    "print(\"number of vowel:  \",vcount)\n",
    "special_char_count = sum(not char.isalnum() and not char.isspace() for char in str)\n",
    "print(\"Number of special characters:\", special_char_count)\n",
    "scount = str.count(' ')\n",
    "print(\"Number of spaces:\",scount)"
   ]
  },
  {
   "cell_type": "code",
   "execution_count": 49,
   "id": "d29e17bf-7bd8-4cf6-ba47-9359691d4712",
   "metadata": {},
   "outputs": [
    {
     "name": "stdout",
     "output_type": "stream",
     "text": [
      "True\n"
     ]
    }
   ],
   "source": [
    "str=\"Hi Hello\"\n",
    "print(str.startswith(\"Hi\"))"
   ]
  },
  {
   "cell_type": "code",
   "execution_count": 51,
   "id": "ee818461-784d-446f-9b80-00373351d81c",
   "metadata": {},
   "outputs": [
    {
     "name": "stdout",
     "output_type": "stream",
     "text": [
      "True\n",
      "True\n",
      "False\n"
     ]
    }
   ],
   "source": [
    "str=\"Hi chandu Hello\"\n",
    "print(str.startswith(\"Hi\"))\n",
    "print(str.endswith(\"Hello\"))\n",
    "print(str.startswith(\".\"))"
   ]
  },
  {
   "cell_type": "code",
   "execution_count": null,
   "id": "fbb600a4-5221-492c-b06e-9f67802d994b",
   "metadata": {},
   "outputs": [],
   "source": []
  }
 ],
 "metadata": {
  "kernelspec": {
   "display_name": "Python [conda env:base] *",
   "language": "python",
   "name": "conda-base-py"
  },
  "language_info": {
   "codemirror_mode": {
    "name": "ipython",
    "version": 3
   },
   "file_extension": ".py",
   "mimetype": "text/x-python",
   "name": "python",
   "nbconvert_exporter": "python",
   "pygments_lexer": "ipython3",
   "version": "3.12.7"
  }
 },
 "nbformat": 4,
 "nbformat_minor": 5
}
