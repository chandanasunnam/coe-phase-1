{
 "cells": [
  {
   "cell_type": "markdown",
   "id": "2f879509-05ef-4f7e-aef1-2a200f7ba41c",
   "metadata": {},
   "source": [
    "#Simple linear Regression Introduction"
   ]
  },
  {
   "cell_type": "code",
   "execution_count": 1,
   "id": "4b648d16-4de7-4b0b-9927-258a81578e32",
   "metadata": {},
   "outputs": [],
   "source": [
    "import pandas as pd\n",
    "import numpy as np\n",
    "import matplotlib.pyplot as plt\n",
    "from sklearn.linear_model import LinearRegression\n"
   ]
  },
  {
   "cell_type": "code",
   "execution_count": 2,
   "id": "92b2701b-9f46-4a06-abf2-0c12fa99fe5d",
   "metadata": {},
   "outputs": [
    {
     "name": "stdout",
     "output_type": "stream",
     "text": [
      "    Temperature  IceCreamSales\n",
      "0            32      77.295419\n",
      "1            35      80.883863\n",
      "2            20      49.436005\n",
      "3            23      62.036730\n",
      "4            23      61.576350\n",
      "5            27      68.645490\n",
      "6            29      67.369106\n",
      "7            39      99.887627\n",
      "8            38     101.463491\n",
      "9            24      56.342709\n",
      "10           26      56.972989\n",
      "11           32      84.947381\n",
      "12           21      53.054073\n",
      "13           26      63.095343\n",
      "14           27      68.074796\n",
      "15           34      86.726563\n",
      "16           37      83.825206\n",
      "17           25      70.791756\n",
      "18           33      93.998858\n",
      "19           28      67.644324\n",
      "20           29      78.813577\n",
      "21           39      91.647423\n",
      "22           36      95.328946\n",
      "23           39      94.000313\n",
      "24           25      63.220396\n",
      "25           35      89.492711\n",
      "26           35      87.634346\n",
      "27           20      55.279186\n",
      "28           38      94.634083\n",
      "29           23      54.171397\n",
      "30           37      92.279438\n",
      "31           39      95.683665\n",
      "32           39      97.438276\n",
      "33           39      97.710607\n",
      "34           34      94.796479\n",
      "35           27      66.507872\n",
      "36           20      51.652672\n",
      "37           21      45.320858\n",
      "38           29      72.637642\n",
      "39           20      55.603023\n",
      "40           30      73.879806\n",
      "41           23      55.399083\n",
      "42           31      82.499148\n",
      "43           38      97.155171\n",
      "44           22      51.745436\n",
      "45           20      42.506298\n",
      "46           20      43.846825\n",
      "47           24      60.970036\n",
      "48           25      57.508088\n",
      "49           26      63.161812\n"
     ]
    }
   ],
   "source": [
    "#Sample Dataset: Temparature vs Ice CreamSales\n",
    "np.random.seed(0)\n",
    "temperature=np.random.randint(20,40,50)\n",
    "sales=2.5*temperature+np.random.normal(0,5,50)\n",
    "df=pd.DataFrame({'Temperature':temperature,'IceCreamSales':sales})\n",
    "print(df)"
   ]
  },
  {
   "cell_type": "code",
   "execution_count": 7,
   "id": "8b927fa9-29a6-44ea-a29e-546b79c73bee",
   "metadata": {},
   "outputs": [
    {
     "data": {
      "text/html": [
       "<style>#sk-container-id-1 {color: black;background-color: white;}#sk-container-id-1 pre{padding: 0;}#sk-container-id-1 div.sk-toggleable {background-color: white;}#sk-container-id-1 label.sk-toggleable__label {cursor: pointer;display: block;width: 100%;margin-bottom: 0;padding: 0.3em;box-sizing: border-box;text-align: center;}#sk-container-id-1 label.sk-toggleable__label-arrow:before {content: \"▸\";float: left;margin-right: 0.25em;color: #696969;}#sk-container-id-1 label.sk-toggleable__label-arrow:hover:before {color: black;}#sk-container-id-1 div.sk-estimator:hover label.sk-toggleable__label-arrow:before {color: black;}#sk-container-id-1 div.sk-toggleable__content {max-height: 0;max-width: 0;overflow: hidden;text-align: left;background-color: #f0f8ff;}#sk-container-id-1 div.sk-toggleable__content pre {margin: 0.2em;color: black;border-radius: 0.25em;background-color: #f0f8ff;}#sk-container-id-1 input.sk-toggleable__control:checked~div.sk-toggleable__content {max-height: 200px;max-width: 100%;overflow: auto;}#sk-container-id-1 input.sk-toggleable__control:checked~label.sk-toggleable__label-arrow:before {content: \"▾\";}#sk-container-id-1 div.sk-estimator input.sk-toggleable__control:checked~label.sk-toggleable__label {background-color: #d4ebff;}#sk-container-id-1 div.sk-label input.sk-toggleable__control:checked~label.sk-toggleable__label {background-color: #d4ebff;}#sk-container-id-1 input.sk-hidden--visually {border: 0;clip: rect(1px 1px 1px 1px);clip: rect(1px, 1px, 1px, 1px);height: 1px;margin: -1px;overflow: hidden;padding: 0;position: absolute;width: 1px;}#sk-container-id-1 div.sk-estimator {font-family: monospace;background-color: #f0f8ff;border: 1px dotted black;border-radius: 0.25em;box-sizing: border-box;margin-bottom: 0.5em;}#sk-container-id-1 div.sk-estimator:hover {background-color: #d4ebff;}#sk-container-id-1 div.sk-parallel-item::after {content: \"\";width: 100%;border-bottom: 1px solid gray;flex-grow: 1;}#sk-container-id-1 div.sk-label:hover label.sk-toggleable__label {background-color: #d4ebff;}#sk-container-id-1 div.sk-serial::before {content: \"\";position: absolute;border-left: 1px solid gray;box-sizing: border-box;top: 0;bottom: 0;left: 50%;z-index: 0;}#sk-container-id-1 div.sk-serial {display: flex;flex-direction: column;align-items: center;background-color: white;padding-right: 0.2em;padding-left: 0.2em;position: relative;}#sk-container-id-1 div.sk-item {position: relative;z-index: 1;}#sk-container-id-1 div.sk-parallel {display: flex;align-items: stretch;justify-content: center;background-color: white;position: relative;}#sk-container-id-1 div.sk-item::before, #sk-container-id-1 div.sk-parallel-item::before {content: \"\";position: absolute;border-left: 1px solid gray;box-sizing: border-box;top: 0;bottom: 0;left: 50%;z-index: -1;}#sk-container-id-1 div.sk-parallel-item {display: flex;flex-direction: column;z-index: 1;position: relative;background-color: white;}#sk-container-id-1 div.sk-parallel-item:first-child::after {align-self: flex-end;width: 50%;}#sk-container-id-1 div.sk-parallel-item:last-child::after {align-self: flex-start;width: 50%;}#sk-container-id-1 div.sk-parallel-item:only-child::after {width: 0;}#sk-container-id-1 div.sk-dashed-wrapped {border: 1px dashed gray;margin: 0 0.4em 0.5em 0.4em;box-sizing: border-box;padding-bottom: 0.4em;background-color: white;}#sk-container-id-1 div.sk-label label {font-family: monospace;font-weight: bold;display: inline-block;line-height: 1.2em;}#sk-container-id-1 div.sk-label-container {text-align: center;}#sk-container-id-1 div.sk-container {/* jupyter's `normalize.less` sets `[hidden] { display: none; }` but bootstrap.min.css set `[hidden] { display: none !important; }` so we also need the `!important` here to be able to override the default hidden behavior on the sphinx rendered scikit-learn.org. See: https://github.com/scikit-learn/scikit-learn/issues/21755 */display: inline-block !important;position: relative;}#sk-container-id-1 div.sk-text-repr-fallback {display: none;}</style><div id=\"sk-container-id-1\" class=\"sk-top-container\"><div class=\"sk-text-repr-fallback\"><pre>LinearRegression()</pre><b>In a Jupyter environment, please rerun this cell to show the HTML representation or trust the notebook. <br />On GitHub, the HTML representation is unable to render, please try loading this page with nbviewer.org.</b></div><div class=\"sk-container\" hidden><div class=\"sk-item\"><div class=\"sk-estimator sk-toggleable\"><input class=\"sk-toggleable__control sk-hidden--visually\" id=\"sk-estimator-id-1\" type=\"checkbox\" checked><label for=\"sk-estimator-id-1\" class=\"sk-toggleable__label sk-toggleable__label-arrow\">LinearRegression</label><div class=\"sk-toggleable__content\"><pre>LinearRegression()</pre></div></div></div></div></div>"
      ],
      "text/plain": [
       "LinearRegression()"
      ]
     },
     "execution_count": 7,
     "metadata": {},
     "output_type": "execute_result"
    }
   ],
   "source": [
    "#Model\n",
    "x=df[['Temperature']]\n",
    "y=df['IceCreamSales']\n",
    "model=LinearRegression()\n",
    "model.fit(x,y)"
   ]
  },
  {
   "cell_type": "code",
   "execution_count": 9,
   "id": "4e5a0ca0-c445-495a-b623-911a74e73c16",
   "metadata": {},
   "outputs": [
    {
     "data": {
      "image/png": "[encoded data removed]",
      "text/plain": [
       "<Figure size 640x480 with 1 Axes>"
      ]
     },
     "metadata": {},
     "output_type": "display_data"
    }
   ],
   "source": [
    "#plot\n",
    "plt.scatter(x,y,color='green')\n",
    "plt.plot(x,model.predict(x),color='red')\n",
    "plt.xlabel(\"Temperature (C)\")\n",
    "plt.ylabel(\"Ice Cream Sales\")\n",
    "plt.title(\"Simple Linear Regression\")\n",
    "plt.show()"
   ]
  },
  {
   "cell_type": "markdown",
   "id": "8cc85891-2342-42d6-b98d-fc043acda76b",
   "metadata": {},
   "source": [
    "#Multiple Linear Regression practical\n"
   ]
  },
  {
   "cell_type": "code",
   "execution_count": 13,
   "id": "6fbc5b6b-7f5b-4940-ab82-68ad7c3d1c2d",
   "metadata": {},
   "outputs": [
    {
     "name": "stdout",
     "output_type": "stream",
     "text": [
      "[ 70.03310285  81.73492824  83.91697814  69.89156191  56.06010412\n",
      "  78.2413147  101.06900469  76.22875734  65.46570525  70.89946637\n",
      "  97.81712255  67.09325486  69.40915604  49.76868999  67.98032618\n",
      "  86.79667023  73.54776958  58.24545995  69.68046817  51.67094384\n",
      "  67.44901305 102.23550172  76.29715356  51.35749072  48.848546\n",
      "  47.7707828   91.66499277 104.57957119  71.95302423  75.1641569\n",
      "  91.69403568  54.14132091  72.05044119  91.23861771  45.57049262\n",
      "  76.45524125  56.31563545  84.55081644  50.41947841  68.52302197\n",
      "  41.83377822  68.61235615  52.12135671  32.14343697  82.11119456\n",
      "  64.20744564  89.59052726  92.52301442 101.8148006   79.2370922 ]\n"
     ]
    }
   ],
   "source": [
    "np.random.seed(1)\n",
    "study_hours = np.random.randint(1,10,50)\n",
    "attendance = np.random.randint(50,100,50)\n",
    "sleep_hours = np.random.randint(5,9,50)\n",
    "score = (5* study_hours + 0.5*attendance + 2 * sleep_hours + np.random.normal(0,10,50))\n",
    "print(score)"
   ]
  },
  {
   "cell_type": "code",
   "execution_count": 15,
   "id": "67ea9b07-cd2d-4583-8129-3ce02a096735",
   "metadata": {},
   "outputs": [
    {
     "name": "stdout",
     "output_type": "stream",
     "text": [
      "    StudyHours  Attendance  SleepHours       Score\n",
      "0            6          59           6   70.033103\n",
      "1            9          53           5   81.734928\n",
      "2            6          89           6   83.916978\n",
      "3            1          73           5   69.891562\n",
      "4            1          86           5   56.060104\n",
      "5            2          77           7   78.241315\n",
      "6            8          87           5  101.069005\n",
      "7            7          69           6   76.228757\n",
      "8            3          88           7   65.465705\n",
      "9            5          58           8   70.899466\n",
      "10           6          82           5   97.817123\n",
      "11           3          84           6   67.093255\n",
      "12           5          60           8   69.409156\n",
      "13           3          73           6   49.768690\n",
      "14           5          65           5   67.980326\n",
      "15           8          97           7   86.796670\n",
      "16           8          73           5   73.547770\n",
      "17           2          75           5   58.245460\n",
      "18           8          57           5   69.680468\n",
      "19           1          78           5   51.670944\n",
      "20           7          60           6   67.449013\n",
      "21           8          96           7  102.235502\n",
      "22           7          82           5   76.297154\n",
      "23           2          74           6   51.357491\n",
      "24           1          73           5   48.848546\n",
      "25           2          51           7   47.770783\n",
      "26           9          99           8   91.664993\n",
      "27           9          63           6  104.579571\n",
      "28           4          53           7   71.953024\n",
      "29           9          50           5   75.164157\n",
      "30           8          63           5   91.694036\n",
      "31           4          56           8   54.141321\n",
      "32           7          71           7   72.050441\n",
      "33           6          56           7   91.238618\n",
      "34           2          52           7   45.570493\n",
      "35           4          62           5   76.455241\n",
      "36           5          77           6   56.315635\n",
      "37           9          71           7   84.550816\n",
      "38           2          61           7   50.419478\n",
      "39           5          57           7   68.523022\n",
      "40           1          63           7   41.833778\n",
      "41           4          58           8   68.612356\n",
      "42           3          61           8   52.121357\n",
      "43           1          62           5   32.143437\n",
      "44           5          93           7   82.111195\n",
      "45           3          70           8   64.207446\n",
      "46           8          80           6   89.590527\n",
      "47           8          86           6   92.523014\n",
      "48           9          89           7  101.814801\n",
      "49           7          57           5   79.237092\n"
     ]
    }
   ],
   "source": [
    "df= pd.DataFrame({\n",
    "    'StudyHours': study_hours,\n",
    "    'Attendance': attendance,\n",
    "    'SleepHours': sleep_hours,\n",
    "    'Score': score})\n",
    "print(df)"
   ]
  },
  {
   "cell_type": "code",
   "execution_count": 16,
   "id": "bf68cc7e-d108-4f0c-af31-04fdefd3c9bc",
   "metadata": {},
   "outputs": [
    {
     "data": {
      "text/html": [
       "<style>#sk-container-id-2 {color: black;background-color: white;}#sk-container-id-2 pre{padding: 0;}#sk-container-id-2 div.sk-toggleable {background-color: white;}#sk-container-id-2 label.sk-toggleable__label {cursor: pointer;display: block;width: 100%;margin-bottom: 0;padding: 0.3em;box-sizing: border-box;text-align: center;}#sk-container-id-2 label.sk-toggleable__label-arrow:before {content: \"▸\";float: left;margin-right: 0.25em;color: #696969;}#sk-container-id-2 label.sk-toggleable__label-arrow:hover:before {color: black;}#sk-container-id-2 div.sk-estimator:hover label.sk-toggleable__label-arrow:before {color: black;}#sk-container-id-2 div.sk-toggleable__content {max-height: 0;max-width: 0;overflow: hidden;text-align: left;background-color: #f0f8ff;}#sk-container-id-2 div.sk-toggleable__content pre {margin: 0.2em;color: black;border-radius: 0.25em;background-color: #f0f8ff;}#sk-container-id-2 input.sk-toggleable__control:checked~div.sk-toggleable__content {max-height: 200px;max-width: 100%;overflow: auto;}#sk-container-id-2 input.sk-toggleable__control:checked~label.sk-toggleable__label-arrow:before {content: \"▾\";}#sk-container-id-2 div.sk-estimator input.sk-toggleable__control:checked~label.sk-toggleable__label {background-color: #d4ebff;}#sk-container-id-2 div.sk-label input.sk-toggleable__control:checked~label.sk-toggleable__label {background-color: #d4ebff;}#sk-container-id-2 input.sk-hidden--visually {border: 0;clip: rect(1px 1px 1px 1px);clip: rect(1px, 1px, 1px, 1px);height: 1px;margin: -1px;overflow: hidden;padding: 0;position: absolute;width: 1px;}#sk-container-id-2 div.sk-estimator {font-family: monospace;background-color: #f0f8ff;border: 1px dotted black;border-radius: 0.25em;box-sizing: border-box;margin-bottom: 0.5em;}#sk-container-id-2 div.sk-estimator:hover {background-color: #d4ebff;}#sk-container-id-2 div.sk-parallel-item::after {content: \"\";width: 100%;border-bottom: 1px solid gray;flex-grow: 1;}#sk-container-id-2 div.sk-label:hover label.sk-toggleable__label {background-color: #d4ebff;}#sk-container-id-2 div.sk-serial::before {content: \"\";position: absolute;border-left: 1px solid gray;box-sizing: border-box;top: 0;bottom: 0;left: 50%;z-index: 0;}#sk-container-id-2 div.sk-serial {display: flex;flex-direction: column;align-items: center;background-color: white;padding-right: 0.2em;padding-left: 0.2em;position: relative;}#sk-container-id-2 div.sk-item {position: relative;z-index: 1;}#sk-container-id-2 div.sk-parallel {display: flex;align-items: stretch;justify-content: center;background-color: white;position: relative;}#sk-container-id-2 div.sk-item::before, #sk-container-id-2 div.sk-parallel-item::before {content: \"\";position: absolute;border-left: 1px solid gray;box-sizing: border-box;top: 0;bottom: 0;left: 50%;z-index: -1;}#sk-container-id-2 div.sk-parallel-item {display: flex;flex-direction: column;z-index: 1;position: relative;background-color: white;}#sk-container-id-2 div.sk-parallel-item:first-child::after {align-self: flex-end;width: 50%;}#sk-container-id-2 div.sk-parallel-item:last-child::after {align-self: flex-start;width: 50%;}#sk-container-id-2 div.sk-parallel-item:only-child::after {width: 0;}#sk-container-id-2 div.sk-dashed-wrapped {border: 1px dashed gray;margin: 0 0.4em 0.5em 0.4em;box-sizing: border-box;padding-bottom: 0.4em;background-color: white;}#sk-container-id-2 div.sk-label label {font-family: monospace;font-weight: bold;display: inline-block;line-height: 1.2em;}#sk-container-id-2 div.sk-label-container {text-align: center;}#sk-container-id-2 div.sk-container {/* jupyter's `normalize.less` sets `[hidden] { display: none; }` but bootstrap.min.css set `[hidden] { display: none !important; }` so we also need the `!important` here to be able to override the default hidden behavior on the sphinx rendered scikit-learn.org. See: https://github.com/scikit-learn/scikit-learn/issues/21755 */display: inline-block !important;position: relative;}#sk-container-id-2 div.sk-text-repr-fallback {display: none;}</style><div id=\"sk-container-id-2\" class=\"sk-top-container\"><div class=\"sk-text-repr-fallback\"><pre>LinearRegression()</pre><b>In a Jupyter environment, please rerun this cell to show the HTML representation or trust the notebook. <br />On GitHub, the HTML representation is unable to render, please try loading this page with nbviewer.org.</b></div><div class=\"sk-container\" hidden><div class=\"sk-item\"><div class=\"sk-estimator sk-toggleable\"><input class=\"sk-toggleable__control sk-hidden--visually\" id=\"sk-estimator-id-2\" type=\"checkbox\" checked><label for=\"sk-estimator-id-2\" class=\"sk-toggleable__label sk-toggleable__label-arrow\">LinearRegression</label><div class=\"sk-toggleable__content\"><pre>LinearRegression()</pre></div></div></div></div></div>"
      ],
      "text/plain": [
       "LinearRegression()"
      ]
     },
     "execution_count": 16,
     "metadata": {},
     "output_type": "execute_result"
    }
   ],
   "source": [
    "x = df[['StudyHours', 'Attendance', 'SleepHours']]\n",
    "y = df['Score']\n",
    "model = LinearRegression()\n",
    "model.fit(x,y)"
   ]
  },
  {
   "cell_type": "code",
   "execution_count": 17,
   "id": "2bf379ba-eafe-488e-9ac0-df593d21df1b",
   "metadata": {},
   "outputs": [
    {
     "name": "stdout",
     "output_type": "stream",
     "text": [
      "Coefficients: [4.8658005  0.35883298 0.29424211]\n",
      "Inetrcept: 19.485101108650724\n"
     ]
    }
   ],
   "source": [
    "print(\"Coefficients:\",model.coef_)\n",
    "print(\"Inetrcept:\",model.intercept_)"
   ]
  },
  {
   "cell_type": "code",
   "execution_count": null,
   "id": "a645299b-730b-4213-9241-cf7c3630d88f",
   "metadata": {},
   "outputs": [],
   "source": []
  }
 ],
 "metadata": {
  "kernelspec": {
   "display_name": "Python 3 (ipykernel)",
   "language": "python",
   "name": "python3"
  },
  "language_info": {
   "codemirror_mode": {
    "name": "ipython",
    "version": 3
   },
   "file_extension": ".py",
   "mimetype": "text/x-python",
   "name": "python",
   "nbconvert_exporter": "python",
   "pygments_lexer": "ipython3",
   "version": "3.11.7"
  }
 },
 "nbformat": 4,
 "nbformat_minor": 5
}
