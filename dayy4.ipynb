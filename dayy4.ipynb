{
 "cells": [
  {
   "cell_type": "code",
   "execution_count": 4,
   "id": "fe622512-abea-46ee-91d7-b072efc39b1d",
   "metadata": {},
   "outputs": [
    {
     "name": "stdin",
     "output_type": "stream",
     "text": [
      "Enter your name chandana\n"
     ]
    },
    {
     "name": "stdout",
     "output_type": "stream",
     "text": [
      "Name:  chandana\n"
     ]
    },
    {
     "name": "stdin",
     "output_type": "stream",
     "text": [
      "Enter mobile number:  9876544321\n"
     ]
    },
    {
     "name": "stdout",
     "output_type": "stream",
     "text": [
      "valid number:  9876544321\n"
     ]
    },
    {
     "name": "stdin",
     "output_type": "stream",
     "text": [
      "Enter your mail id:  hanxana>@gmail.com\n"
     ]
    },
    {
     "name": "stdout",
     "output_type": "stream",
     "text": [
      "valid email:  hanxana>@gmail.com\n"
     ]
    },
    {
     "name": "stdin",
     "output_type": "stream",
     "text": [
      "Enter your password:  jupiter\n"
     ]
    },
    {
     "name": "stdout",
     "output_type": "stream",
     "text": [
      "Invalid password. It must contain 1 uppercase, 1 lowercase, 1 digit, 1 special character and be 8–20 characters long.\n"
     ]
    }
   ],
   "source": [
    "name=input(\"Enter your name\")\n",
    "if name.isalpha() and 3<= len(name) <=15:\n",
    "    print(\"Name: \",name)\n",
    "else:\n",
    "    print(\"Invalid name enter upto 15letters\")\n",
    "\n",
    "num=int(input(\"Enter mobile number: \"))\n",
    "if name.isdigit() and len(num) == 10 and num[0] in '9'or '8' or '7' or '6':\n",
    "    print(\"valid number: \",num)\n",
    "else: \n",
    "    print(\"Invalid number\")\n",
    "mail=input(\"Enter your mail id: \")\n",
    "if (mail[0].isalnum() and  mail.endswith(\".com\") or mail.endswith(\".in\") and 5<= len(mail) <=20):\n",
    "    print(\"valid email: \",mail)\n",
    "else:\n",
    "    print(\"Please enter  valid email\")\n",
    "import re\n",
    "\n",
    "password = input(\"Enter your password: \")\n",
    "\n",
    "pattern = r'^(?=.[a-z])(?=.[A-Z])(?=.\\d)(?=.[@$!%#?&])[A-Za-z\\d@$!%#?&]{8,20}$'\n",
    "\n",
    "if re.match(pattern, password):\n",
    "    print(\"Valid password\")\n",
    "else:\n",
    "    print(\"Invalid password. It must contain 1 uppercase, 1 lowercase, 1 digit, 1 special character and be 8–20 characters long.\")"
   ]
  },
  {
   "cell_type": "code",
   "execution_count": null,
   "id": "d4305968-8d25-43f4-97ec-69f09e4f69df",
   "metadata": {},
   "outputs": [],
   "source": []
  }
 ],
 "metadata": {
  "kernelspec": {
   "display_name": "Python 3 (ipykernel)",
   "language": "python",
   "name": "python3"
  },
  "language_info": {
   "codemirror_mode": {
    "name": "ipython",
    "version": 3
   },
   "file_extension": ".py",
   "mimetype": "text/x-python",
   "name": "python",
   "nbconvert_exporter": "python",
   "pygments_lexer": "ipython3",
   "version": "3.11.7"
  }
 },
 "nbformat": 4,
 "nbformat_minor": 5
}
