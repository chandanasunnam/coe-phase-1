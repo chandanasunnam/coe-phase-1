{
 "cells": [
  {
   "cell_type": "code",
   "execution_count": 1,
   "id": "af77c5d7-e433-4e45-bbe5-f6d5b3a4e75d",
   "metadata": {},
   "outputs": [
    {
     "name": "stdin",
     "output_type": "stream",
     "text": [
      "Enter pin :  1234\n"
     ]
    },
    {
     "name": "stdout",
     "output_type": "stream",
     "text": [
      "Valid PIN \n",
      "Choose The Options\n"
     ]
    },
    {
     "name": "stdin",
     "output_type": "stream",
     "text": [
      "1.Deposit\n",
      " 2.Withdraw\n",
      " 3.Balance Enquiry 2\n",
      "Enter Amount to Withdraw 2000\n"
     ]
    },
    {
     "name": "stdout",
     "output_type": "stream",
     "text": [
      "Withdraw Successfull \n",
      " Your Account Balance is:  8000\n"
     ]
    }
   ],
   "source": [
    "vpin=1234\n",
    "pin=int(input(\"Enter pin : \"))\n",
    "acbal=10000\n",
    "def deposit():\n",
    "    amt=int(input(\"Enter Amount to be Deposit\"))\n",
    "    if(amt%100==0):\n",
    "        if(amt<=20000):\n",
    "            bal=acbal\n",
    "            bal=bal+amt\n",
    "            print(\"Deposit Successfull \\n Your Account Balance is: \",bal)\n",
    "        else:\n",
    "            print(\"Amount Transaction Should be not more than 20000\")\n",
    "    else:\n",
    "        (\"Please Deposit Amount that is multiple of 100\")\n",
    "def withdraw():\n",
    "    amt=int(input(\"Enter Amount to Withdraw\"))\n",
    "    if(amt%100==0):\n",
    "        if(amt<=acbal):\n",
    "            bal=acbal\n",
    "            bal=bal-amt\n",
    "            print(\"Withdraw Successfull \\n Your Account Balance is: \",bal)\n",
    "        else:\n",
    "            print(\"Amount Transaction Should be not more than 20000\")\n",
    "    else:\n",
    "        (\"Please Deposit Amount that is multiple of 100\")\n",
    "\n",
    "def balance():\n",
    "    print(\"Your Account Balance is :\",acbal)\n",
    "            \n",
    "\n",
    "def validate():\n",
    "    if(pin==vpin):\n",
    "        print(\"Valid PIN \\nChoose The Options\")\n",
    "        opt=int(input(\"1.Deposit\\n 2.Withdraw\\n 3.Balance Enquiry\"))\n",
    "    else:\n",
    "        print(\"Please Enter valid pin\")\n",
    "    if(opt==1):\n",
    "        deposit()\n",
    "    if(opt==2):\n",
    "        withdraw()\n",
    "    else:\n",
    "        balance()\n",
    "validate()"
   ]
  },
  {
   "cell_type": "code",
   "execution_count": 20,
   "id": "83ad93d6-2426-4e40-9bb9-2a45cf7cdca3",
   "metadata": {},
   "outputs": [
    {
     "name": "stdout",
     "output_type": "stream",
     "text": [
      "sub:  67\n",
      "add:  10\n",
      "div:  67\n"
     ]
    }
   ],
   "source": [
    "#OOPS\n",
    "a=67\n",
    "class Bank:\n",
    "    \n",
    "    def add(self):\n",
    "        a=10\n",
    "        print(\"add: \",a)\n",
    "    def sub(self):\n",
    "        print(\"sub: \",a)\n",
    "    def div(self):\n",
    "        print(\"div: \",a)\n",
    "obj=Bank()\n",
    "obj.sub()\n",
    "obj.add()\n",
    "obj.div()"
   ]
  },
  {
   "cell_type": "code",
   "execution_count": 22,
   "id": "aa941f57-70eb-46a5-a766-57ad7e52fe2d",
   "metadata": {},
   "outputs": [
    {
     "name": "stdin",
     "output_type": "stream",
     "text": [
      "Enter your pin :  1234\n"
     ]
    },
    {
     "name": "stdout",
     "output_type": "stream",
     "text": [
      "1. Deposit \n",
      "2. Withdarw \n",
      "3. Bal Enquiry \n",
      "0. EXIT \n"
     ]
    },
    {
     "name": "stdin",
     "output_type": "stream",
     "text": [
      "Choose your option 1\n",
      "Enter deposit amount :  2000\n"
     ]
    },
    {
     "name": "stdout",
     "output_type": "stream",
     "text": [
      "Avaialble bal is :  12000\n"
     ]
    },
    {
     "name": "stdin",
     "output_type": "stream",
     "text": [
      "1.Continue  \n",
      " 0. EXIT  1\n"
     ]
    },
    {
     "name": "stdout",
     "output_type": "stream",
     "text": [
      "1. Deposit \n",
      "2. Withdarw \n",
      "3. Bal Enquiry \n",
      "0. EXIT \n"
     ]
    },
    {
     "name": "stdin",
     "output_type": "stream",
     "text": [
      "Choose your option 2\n",
      "Enter withdraw amount :  1500\n"
     ]
    },
    {
     "name": "stdout",
     "output_type": "stream",
     "text": [
      "Avalilable bal is :  10500\n"
     ]
    },
    {
     "name": "stdin",
     "output_type": "stream",
     "text": [
      "1.Continue  \n",
      " 0. EXIT  1\n"
     ]
    },
    {
     "name": "stdout",
     "output_type": "stream",
     "text": [
      "1. Deposit \n",
      "2. Withdarw \n",
      "3. Bal Enquiry \n",
      "0. EXIT \n"
     ]
    },
    {
     "name": "stdin",
     "output_type": "stream",
     "text": [
      "Choose your option 2\n",
      "Enter withdraw amount :  670\n"
     ]
    },
    {
     "name": "stdout",
     "output_type": "stream",
     "text": [
      "Please enter multiples of 100 only\n"
     ]
    },
    {
     "name": "stdin",
     "output_type": "stream",
     "text": [
      "1.Continue  \n",
      " 0. EXIT  0\n"
     ]
    },
    {
     "name": "stdout",
     "output_type": "stream",
     "text": [
      "Thank you, Visit again \n"
     ]
    }
   ],
   "source": [
    "class Bank:\n",
    "    pin=1234\n",
    "    pincount=1\n",
    "    acbal=10000\n",
    "    wcount=0\n",
    "    def viewOptions(self):\n",
    "        print(\"1. Deposit \")\n",
    "        print(\"2. Withdarw \")\n",
    "        print(\"3. Bal Enquiry \")\n",
    "        print(\"0. EXIT \")\n",
    "        opt=int(input(\"Choose your option\"))\n",
    "        if opt==1:\n",
    "            obj.deposit()\n",
    "            obj.confirm()\n",
    "        elif opt==2:\n",
    "            if self.wcount<3:\n",
    "                obj.withdraw()\n",
    "                obj.confirm()\n",
    "            else:\n",
    "                print(\"Withdraw limit is over, please try after 24 hrs\")\n",
    "        \n",
    "    \n",
    "    def validate(self):\n",
    "        pin=int(input(\"Enter your pin : \"))\n",
    "        if self.pin==pin:\n",
    "           obj.viewOptions()\n",
    "        else:\n",
    "            self.pincount+=1\n",
    "            if self.pincount<=3:\n",
    "                print(\"Invalid pin, please try again\")\n",
    "                obj.validate()\n",
    "            else:\n",
    "                print(\"Your card is blocked for the day\")\n",
    "    def deposit(self):\n",
    "        amt=int(input(\"Enter deposit amount : \"))\n",
    "        if amt%100==0:\n",
    "            if amt<=50000:\n",
    "                self.acbal+=amt\n",
    "                print(\"Avaialble bal is : \",self.acbal)\n",
    "            else:\n",
    "                print(\"Transaction limit is 20000 only\")\n",
    "                \n",
    "        else:\n",
    "            print(\"Please enter multiples of 100 \")\n",
    "        \n",
    "    def confirm(self):\n",
    "        opt=int(input(\"1.Continue  \\n 0. EXIT \"))\n",
    "        if opt==1:\n",
    "                obj.viewOptions()\n",
    "        else:\n",
    "            print(\"Thank you, Visit again \")\n",
    "    def withdraw(self):\n",
    "        amt=int(input(\"Enter withdraw amount : \"))\n",
    "        if amt%100==0:\n",
    "            if amt<=self.acbal:\n",
    "                if amt<=20000:\n",
    "                    self.acbal-=amt\n",
    "                    self.wcount+=1\n",
    "                    print(\"Avalilable bal is : \",self.acbal)\n",
    "                        \n",
    "                else:\n",
    "                    print(\"Transaction limit is 20000 only\")\n",
    "            else:\n",
    "                print(\"insuffient fund \")\n",
    "        else:\n",
    "            print(\"Please enter multiples of 100 only\")\n",
    "            \n",
    "            \n",
    "obj=Bank()\n",
    "obj.validate()"
   ]
  },
  {
   "cell_type": "code",
   "execution_count": null,
   "id": "d49d0d10-9a86-425d-8b45-bb3280f18e7f",
   "metadata": {},
   "outputs": [],
   "source": []
  }
 ],
 "metadata": {
  "kernelspec": {
   "display_name": "Python 3 (ipykernel)",
   "language": "python",
   "name": "python3"
  },
  "language_info": {
   "codemirror_mode": {
    "name": "ipython",
    "version": 3
   },
   "file_extension": ".py",
   "mimetype": "text/x-python",
   "name": "python",
   "nbconvert_exporter": "python",
   "pygments_lexer": "ipython3",
   "version": "3.11.7"
  }
 },
 "nbformat": 4,
 "nbformat_minor": 5
}
