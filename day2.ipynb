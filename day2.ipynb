{
 "cells": [
  {
   "cell_type": "code",
   "execution_count": 3,
   "id": "e8b6d97e-5d0a-49e3-8c06-486a63bff4f6",
   "metadata": {},
   "outputs": [
    {
     "name": "stdout",
     "output_type": "stream",
     "text": [
      "18.5\n",
      "18\n"
     ]
    }
   ],
   "source": [
    "#float --> int\n",
    "a=18.5\n",
    "b=int(a)\n",
    "print(a)\n",
    "print(b)"
   ]
  },
  {
   "cell_type": "code",
   "execution_count": 10,
   "id": "07961fc6-0629-4e0a-b0aa-1124256f8dea",
   "metadata": {},
   "outputs": [
    {
     "name": "stdout",
     "output_type": "stream",
     "text": [
      "234\n",
      "234\n",
      "<class 'str'>\n",
      "<class 'int'>\n"
     ]
    }
   ],
   "source": [
    "#string to int\n",
    "a=\"234\"\n",
    "b=int(a)\n",
    "print(a)\n",
    "print(b)\n",
    "print(type(a))\n",
    "print(type(b))"
   ]
  },
  {
   "cell_type": "code",
   "execution_count": 7,
   "id": "dacd968b-2128-4ae1-a310-8378b9b159ff",
   "metadata": {},
   "outputs": [
    {
     "name": "stdout",
     "output_type": "stream",
     "text": [
      "23\n",
      "23.0\n"
     ]
    }
   ],
   "source": [
    "#string --> float\n",
    "a=\"23\"\n",
    "b=float(a)\n",
    "print(a)\n",
    "print(b)\n"
   ]
  },
  {
   "cell_type": "code",
   "execution_count": 12,
   "id": "6ae8070d-ce90-4d3b-9327-d04b86208827",
   "metadata": {},
   "outputs": [
    {
     "name": "stdout",
     "output_type": "stream",
     "text": [
      "73769383\n"
     ]
    }
   ],
   "source": [
    "a=\"7376\"\n",
    "b=\"9383\"\n",
    "print(a+b)"
   ]
  },
  {
   "cell_type": "code",
   "execution_count": 25,
   "id": "188bd906-177f-487c-b25b-3e506eea8c11",
   "metadata": {},
   "outputs": [
    {
     "name": "stdin",
     "output_type": "stream",
     "text": [
      "Enter your amount: 1500\n"
     ]
    },
    {
     "name": "stdout",
     "output_type": "stream",
     "text": [
      "500 rupees notes are: 3\n"
     ]
    }
   ],
   "source": [
    "#ATM\n",
    "#Aceept withdraw amount and print number of notes\n",
    "# 500,200,100\n",
    "amount=int(input(\"Enter your amount:\")) #800\n",
    "five=0\n",
    "two=0\n",
    "one=0\n",
    "if amount%100==0:\n",
    "   if amount>=500:\n",
    "    five=amount//500\n",
    "    print(\"500 rupees notes are:\",five)\n",
    "    amount=amount-(five*500)\n",
    "   if amount>=200:    \n",
    "    two=amount//200\n",
    "    print(\"200 rupees notes are:\",two)\n",
    "    amount=amount-(two*200)\n",
    "   if amount>=100:\n",
    "    one=amount//100\n",
    "    print(\"100 rupees notes are:\",one)\n",
    "else:\n",
    "    print(\"invalid amount\")\n"
   ]
  },
  {
   "cell_type": "code",
   "execution_count": 22,
   "id": "c16bba26-25e7-4b90-983e-f7b786119cda",
   "metadata": {},
   "outputs": [
    {
     "name": "stdin",
     "output_type": "stream",
     "text": [
      "enter salary: 2700\n"
     ]
    },
    {
     "name": "stdout",
     "output_type": "stream",
     "text": [
      "6858.0\n"
     ]
    }
   ],
   "source": [
    "salary=int(input(\"enter salary:\"))\n",
    "if salary<=20000:\n",
    "    hra=(salary*76)/100\n",
    "    da=(salary*78)/100\n",
    "    gs=salary+hra+da\n",
    "    print(gs)\n",
    "if salary>=20000 and salary<=30000:\n",
    "    hra=(salary*79)/100\n",
    "    da=(salary*82)/100\n",
    "    gs=salary+hra+da\n",
    "    print(gs)\n",
    "if salary>=30000:\n",
    "    hra=(salary*85)/100\n",
    "    da=(salary*89)/100\n",
    "    gs=salary+hra+da\n",
    "    print(gs)"
   ]
  },
  {
   "cell_type": "code",
   "execution_count": 27,
   "id": "67ee189c-8801-404b-a242-04fb4f8eae27",
   "metadata": {},
   "outputs": [
    {
     "name": "stdin",
     "output_type": "stream",
     "text": [
      "enter salary: 60000\n"
     ]
    },
    {
     "name": "stdout",
     "output_type": "stream",
     "text": [
      "Gross salary is:  164400.0\n"
     ]
    }
   ],
   "source": [
    "salary=int(input(\"enter salary:\"))\n",
    "if salary<=20000:\n",
    "    hra=(salary*76)/100\n",
    "    da=(salary*78)/100\n",
    "elif salary<=30000:\n",
    "    hra=(salary*79)/100\n",
    "    da=(salary*82)/100\n",
    "else:\n",
    "    hra=(salary*85)/100\n",
    "    da=(salary*89)/100\n",
    "\n",
    "gs=salary+hra+da\n",
    "print(\"Gross salary is: \",gs)\n",
    "\n"
   ]
  },
  {
   "cell_type": "code",
   "execution_count": 29,
   "id": "78fd1974-a0a4-474e-ba80-da4a75bbd868",
   "metadata": {},
   "outputs": [
    {
     "name": "stdin",
     "output_type": "stream",
     "text": [
      "Enter the salary:  800000\n"
     ]
    },
    {
     "name": "stdout",
     "output_type": "stream",
     "text": [
      "20000.0\n"
     ]
    }
   ],
   "source": [
    "salary=int(input(\"Enter the salary: \"))\n",
    "if salary<=500000:\n",
    "     print(\"0% gst\")\n",
    "elif salary<=1000000:    #800000\n",
    "        amt=salary-500000                 #300000\n",
    "        if amt<=500000:\n",
    "            gst1=(5*200000)/100\n",
    "            amt1=amt-200000\n",
    "            gst2=(amt1*10)/100\n",
    "tgst=gst1+gst2\n",
    "print(tgst)\n",
    "           "
   ]
  },
  {
   "cell_type": "code",
   "execution_count": null,
   "id": "edc48f80-183e-475f-af1d-e6eb96a4bb2c",
   "metadata": {},
   "outputs": [],
   "source": []
  }
 ],
 "metadata": {
  "kernelspec": {
   "display_name": "Python 3 (ipykernel)",
   "language": "python",
   "name": "python3"
  },
  "language_info": {
   "codemirror_mode": {
    "name": "ipython",
    "version": 3
   },
   "file_extension": ".py",
   "mimetype": "text/x-python",
   "name": "python",
   "nbconvert_exporter": "python",
   "pygments_lexer": "ipython3",
   "version": "3.11.7"
  }
 },
 "nbformat": 4,
 "nbformat_minor": 5
}
