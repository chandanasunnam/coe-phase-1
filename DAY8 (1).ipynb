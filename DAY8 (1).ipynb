{
 "cells": [
  {
   "cell_type": "code",
   "execution_count": 2,
   "id": "4e05fb3e-c5ed-4752-b2ae-783d7faed3a3",
   "metadata": {},
   "outputs": [
    {
     "data": {
      "text/plain": [
       "1st    1\n",
       "2nd    3\n",
       "3rd    5\n",
       "4th    7\n",
       "5th    9\n",
       "dtype: int64"
      ]
     },
     "execution_count": 2,
     "metadata": {},
     "output_type": "execute_result"
    }
   ],
   "source": [
    "import pandas as pd\n",
    "import numpy as np\n",
    "a_list = [1,3,5,7,9]\n",
    "ser = pd.Series(a_list,index=['1st','2nd','3rd','4th','5th'])\n",
    "ser\n",
    "\n",
    "\n",
    "\n"
   ]
  },
  {
   "cell_type": "code",
   "execution_count": 3,
   "id": "dc3d6ece-72a9-43d0-85d8-96f12bdbac5d",
   "metadata": {},
   "outputs": [
    {
     "data": {
      "text/plain": [
       "1st    1\n",
       "2nd    3\n",
       "3rd    5\n",
       "4th    7\n",
       "5th    9\n",
       "dtype: int64"
      ]
     },
     "execution_count": 3,
     "metadata": {},
     "output_type": "execute_result"
    }
   ],
   "source": [
    "import pandas as pd\n",
    "import numpy as np\n",
    "a_dict = {'1st': 1,'2nd': 3, '3rd': 5, '4th': 7,'5th': 9}\n",
    "ser = pd.Series(a_dict)\n",
    "ser\n",
    "\n",
    "\n"
   ]
  },
  {
   "cell_type": "code",
   "execution_count": 5,
   "id": "85e56ba4-0879-4a80-83e1-75128b01ede5",
   "metadata": {},
   "outputs": [
    {
     "data": {
      "text/html": [
       "<div>\n",
       "<style scoped>\n",
       "    .dataframe tbody tr th:only-of-type {\n",
       "        vertical-align: middle;\n",
       "    }\n",
       "\n",
       "    .dataframe tbody tr th {\n",
       "        vertical-align: top;\n",
       "    }\n",
       "\n",
       "    .dataframe thead th {\n",
       "        text-align: right;\n",
       "    }\n",
       "</style>\n",
       "<table border=\"1\" class=\"dataframe\">\n",
       "  <thead>\n",
       "    <tr style=\"text-align: right;\">\n",
       "      <th></th>\n",
       "      <th>age</th>\n",
       "      <th>marks</th>\n",
       "    </tr>\n",
       "  </thead>\n",
       "  <tbody>\n",
       "    <tr>\n",
       "      <th>Rukshan</th>\n",
       "      <td>25</td>\n",
       "      <td>85</td>\n",
       "    </tr>\n",
       "    <tr>\n",
       "      <th>Prasadi</th>\n",
       "      <td>25</td>\n",
       "      <td>90</td>\n",
       "    </tr>\n",
       "    <tr>\n",
       "      <th>Gihan</th>\n",
       "      <td>26</td>\n",
       "      <td>70</td>\n",
       "    </tr>\n",
       "    <tr>\n",
       "      <th>Hansana</th>\n",
       "      <td>24</td>\n",
       "      <td>80</td>\n",
       "    </tr>\n",
       "  </tbody>\n",
       "</table>\n",
       "</div>"
      ],
      "text/plain": [
       "         age  marks\n",
       "Rukshan   25     85\n",
       "Prasadi   25     90\n",
       "Gihan     26     70\n",
       "Hansana   24     80"
      ]
     },
     "execution_count": 5,
     "metadata": {},
     "output_type": "execute_result"
    }
   ],
   "source": [
    "import pandas as pd\n",
    "import numpy as np\n",
    "an_array = np.array([[25, 85], [25, 90], [26, 70], [24, 80]])\n",
    "ser = pd.DataFrame(an_array, index=['Rukshan','Prasadi','Gihan','Hansana'], columns=['age','marks'])\n",
    "print(ser)\n",
    "\n",
    "\n",
    "\n",
    "\n"
   ]
  },
  {
   "cell_type": "code",
   "execution_count": 6,
   "id": "ddd04478-228b-4b07-b116-2339b6722f36",
   "metadata": {},
   "outputs": [
    {
     "data": {
      "text/plain": [
       "array([[25, 85],\n",
       "       [25, 90],\n",
       "       [26, 70],\n",
       "       [24, 80]])"
      ]
     },
     "execution_count": 6,
     "metadata": {},
     "output_type": "execute_result"
    }
   ],
   "source": [
    "ser.values"
   ]
  },
  {
   "cell_type": "code",
   "execution_count": 7,
   "id": "6383363e-39ec-4c63-bb4c-d56635cbf89f",
   "metadata": {},
   "outputs": [
    {
     "data": {
      "text/plain": [
       "Index(['Rukshan', 'Prasadi', 'Gihan', 'Hansana'], dtype='object')"
      ]
     },
     "execution_count": 7,
     "metadata": {},
     "output_type": "execute_result"
    }
   ],
   "source": [
    "ser.index"
   ]
  },
  {
   "cell_type": "code",
   "execution_count": 8,
   "id": "204585de-7195-406c-88bc-788abeacdc19",
   "metadata": {},
   "outputs": [
    {
     "data": {
      "text/plain": [
       "Index(['age', 'marks'], dtype='object')"
      ]
     },
     "execution_count": 8,
     "metadata": {},
     "output_type": "execute_result"
    }
   ],
   "source": [
    "ser.columns"
   ]
  },
  {
   "cell_type": "code",
   "execution_count": 12,
   "id": "b11f70c1-7281-4774-8442-10e0807c566b",
   "metadata": {},
   "outputs": [
    {
     "data": {
      "text/html": [
       "<div>\n",
       "<style scoped>\n",
       "    .dataframe tbody tr th:only-of-type {\n",
       "        vertical-align: middle;\n",
       "    }\n",
       "\n",
       "    .dataframe tbody tr th {\n",
       "        vertical-align: top;\n",
       "    }\n",
       "\n",
       "    .dataframe thead th {\n",
       "        text-align: right;\n",
       "    }\n",
       "</style>\n",
       "<table border=\"1\" class=\"dataframe\">\n",
       "  <thead>\n",
       "    <tr style=\"text-align: right;\">\n",
       "      <th></th>\n",
       "      <th>name</th>\n",
       "      <th>age</th>\n",
       "      <th>marks</th>\n",
       "    </tr>\n",
       "  </thead>\n",
       "  <tbody>\n",
       "    <tr>\n",
       "      <th>Ru</th>\n",
       "      <td>Rukshan</td>\n",
       "      <td>25</td>\n",
       "      <td>85</td>\n",
       "    </tr>\n",
       "    <tr>\n",
       "      <th>Pr</th>\n",
       "      <td>Prasadi</td>\n",
       "      <td>25</td>\n",
       "      <td>90</td>\n",
       "    </tr>\n",
       "    <tr>\n",
       "      <th>Gi</th>\n",
       "      <td>Gihan</td>\n",
       "      <td>26</td>\n",
       "      <td>70</td>\n",
       "    </tr>\n",
       "    <tr>\n",
       "      <th>Ha</th>\n",
       "      <td>Hansana</td>\n",
       "      <td>24</td>\n",
       "      <td>80</td>\n",
       "    </tr>\n",
       "  </tbody>\n",
       "</table>\n",
       "</div>"
      ],
      "text/plain": [
       "       name  age  marks\n",
       "Ru  Rukshan   25     85\n",
       "Pr  Prasadi   25     90\n",
       "Gi    Gihan   26     70\n",
       "Ha  Hansana   24     80"
      ]
     },
     "execution_count": 12,
     "metadata": {},
     "output_type": "execute_result"
    }
   ],
   "source": [
    "import pandas as pd\n",
    "a_dict = {'name': {'Ru': 'Rukshan','Pr': 'Prasadi','Gi': 'Gihan', 'Ha': \"Hansana\"},'age': {'Ru':25, 'Pr':25,'Gi':26, 'Ha':24},'marks': {'Ru' :85,'Pr' :90,'Gi':70, 'Ha':80}}\n",
    "df = pd.DataFrame(a_dict)\n",
    "df\n"
   ]
  },
  {
   "cell_type": "code",
   "execution_count": 13,
   "id": "9db2da90-ae8f-4211-b958-34149c47f1e4",
   "metadata": {},
   "outputs": [
    {
     "data": {
      "text/plain": [
       "Index(['Ru', 'Pr', 'Gi', 'Ha'], dtype='object')"
      ]
     },
     "execution_count": 13,
     "metadata": {},
     "output_type": "execute_result"
    }
   ],
   "source": [
    "df.index"
   ]
  },
  {
   "cell_type": "code",
   "execution_count": 14,
   "id": "26791b8f-b4d3-4959-b3ba-b1d40a2c2ac3",
   "metadata": {},
   "outputs": [
    {
     "data": {
      "text/plain": [
       "Index(['name', 'age', 'marks'], dtype='object')"
      ]
     },
     "execution_count": 14,
     "metadata": {},
     "output_type": "execute_result"
    }
   ],
   "source": [
    "df.columns"
   ]
  },
  {
   "cell_type": "code",
   "execution_count": 15,
   "id": "9fedcf4f-d0c4-4469-94da-57803c66ccd5",
   "metadata": {},
   "outputs": [
    {
     "data": {
      "text/plain": [
       "array([['Rukshan', 25, 85],\n",
       "       ['Prasadi', 25, 90],\n",
       "       ['Gihan', 26, 70],\n",
       "       ['Hansana', 24, 80]], dtype=object)"
      ]
     },
     "execution_count": 15,
     "metadata": {},
     "output_type": "execute_result"
    }
   ],
   "source": [
    "df.values"
   ]
  },
  {
   "cell_type": "code",
   "execution_count": 16,
   "id": "c26a3c55-6c4c-4b37-9f05-138543146a37",
   "metadata": {},
   "outputs": [
    {
     "data": {
      "text/plain": [
       "numpy.ndarray"
      ]
     },
     "execution_count": 16,
     "metadata": {},
     "output_type": "execute_result"
    }
   ],
   "source": [
    "type(df.values)"
   ]
  },
  {
   "cell_type": "code",
   "execution_count": 17,
   "id": "7059a635-aaad-4320-af1f-dd77b72696db",
   "metadata": {},
   "outputs": [
    {
     "data": {
      "text/plain": [
       "2"
      ]
     },
     "execution_count": 17,
     "metadata": {},
     "output_type": "execute_result"
    }
   ],
   "source": [
    "df.values.ndim"
   ]
  },
  {
   "cell_type": "code",
   "execution_count": 18,
   "id": "ded8c313-2b80-4417-b723-c5598744cb51",
   "metadata": {},
   "outputs": [
    {
     "data": {
      "text/plain": [
       "(4, 3)"
      ]
     },
     "execution_count": 18,
     "metadata": {},
     "output_type": "execute_result"
    }
   ],
   "source": [
    "df.values.shape"
   ]
  },
  {
   "cell_type": "code",
   "execution_count": 19,
   "id": "d58aa7e3-9dbe-40af-968e-8bc9c022dc0e",
   "metadata": {},
   "outputs": [
    {
     "data": {
      "text/html": [
       "<div>\n",
       "<style scoped>\n",
       "    .dataframe tbody tr th:only-of-type {\n",
       "        vertical-align: middle;\n",
       "    }\n",
       "\n",
       "    .dataframe tbody tr th {\n",
       "        vertical-align: top;\n",
       "    }\n",
       "\n",
       "    .dataframe thead th {\n",
       "        text-align: right;\n",
       "    }\n",
       "</style>\n",
       "<table border=\"1\" class=\"dataframe\">\n",
       "  <thead>\n",
       "    <tr style=\"text-align: right;\">\n",
       "      <th></th>\n",
       "      <th>name</th>\n",
       "      <th>age</th>\n",
       "      <th>marks</th>\n",
       "    </tr>\n",
       "  </thead>\n",
       "  <tbody>\n",
       "    <tr>\n",
       "      <th>Ru</th>\n",
       "      <td>Rukshan</td>\n",
       "      <td>25</td>\n",
       "      <td>85</td>\n",
       "    </tr>\n",
       "    <tr>\n",
       "      <th>Pr</th>\n",
       "      <td>Prasadi</td>\n",
       "      <td>25</td>\n",
       "      <td>90</td>\n",
       "    </tr>\n",
       "    <tr>\n",
       "      <th>Gi</th>\n",
       "      <td>Gihan</td>\n",
       "      <td>26</td>\n",
       "      <td>70</td>\n",
       "    </tr>\n",
       "    <tr>\n",
       "      <th>Ha</th>\n",
       "      <td>Hansana</td>\n",
       "      <td>24</td>\n",
       "      <td>80</td>\n",
       "    </tr>\n",
       "  </tbody>\n",
       "</table>\n",
       "</div>"
      ],
      "text/plain": [
       "       name  age  marks\n",
       "Ru  Rukshan   25     85\n",
       "Pr  Prasadi   25     90\n",
       "Gi    Gihan   26     70\n",
       "Ha  Hansana   24     80"
      ]
     },
     "execution_count": 19,
     "metadata": {},
     "output_type": "execute_result"
    }
   ],
   "source": [
    "ser1 = pd. Series(['Rukshan', 'Prasadi', 'Gihan', 'Hansana'], index=['Ru', 'Pr' , 'Gi', 'Ha']) \n",
    "ser2 = pd. Series([25, 25, 26, 24], index=['Ru' , 'Pr', 'Gi', 'Ha'])\n",
    "ser3 = pd.Series([85, 90, 70, 80], index=['Ru', 'Pr' , 'Gi' , 'Ha']) \n",
    "a_dict = {'name': ser1, \n",
    "          'age': ser2, \n",
    "          'marks': ser3}\n",
    "df = pd.DataFrame(a_dict)\n",
    "df\n"
   ]
  },
  {
   "cell_type": "code",
   "execution_count": 21,
   "id": "07c6cd91-9878-4eba-8aaf-bd33b466bfc1",
   "metadata": {},
   "outputs": [
    {
     "name": "stdout",
     "output_type": "stream",
     "text": [
      "20\n"
     ]
    }
   ],
   "source": [
    "x = 10\n",
    "def change():\n",
    "   global x\n",
    "x = 20\n",
    "change()\n",
    "print(x)"
   ]
  },
  {
   "cell_type": "code",
   "execution_count": 22,
   "id": "b1cfe347-ab79-4817-be6a-88083170dd1c",
   "metadata": {},
   "outputs": [
    {
     "name": "stdout",
     "output_type": "stream",
     "text": [
      "[1, 3]\n",
      "[2]\n",
      "[1, 3]\n"
     ]
    }
   ],
   "source": [
    "def foo(a, b=[]):\n",
    "\n",
    "    b.append(a)\n",
    "\n",
    "    return b\n",
    "\n",
    " \n",
    "\n",
    "x = foo(1)\n",
    "\n",
    "y = foo(2, [])\n",
    "\n",
    "z = foo(3)\n",
    "\n",
    " \n",
    "\n",
    "print(x)\n",
    "\n",
    "print(y)\n",
    "\n",
    "print(z)\n"
   ]
  },
  {
   "cell_type": "code",
   "execution_count": 23,
   "id": "563ba8ee-b9d8-4c6b-a6cc-9b1f418b0b99",
   "metadata": {},
   "outputs": [
    {
     "name": "stdout",
     "output_type": "stream",
     "text": [
      "('[0] [1]',)\n"
     ]
    }
   ],
   "source": [
    "x = [[0], [1]]\n",
    "\n",
    "print((' '.join(list(map(str, x))),))"
   ]
  },
  {
   "cell_type": "code",
   "execution_count": 28,
   "id": "d49a0ea5-64e4-4c07-864f-e88fef0b5465",
   "metadata": {},
   "outputs": [
    {
     "name": "stdout",
     "output_type": "stream",
     "text": [
      "20\n",
      "10\n"
     ]
    }
   ],
   "source": [
    "x = 10\n",
    "\n",
    "def func():\n",
    "\n",
    "    x = 20\n",
    "    print(x)\n",
    "\n",
    "func()\n",
    "\n",
    "print(x)"
   ]
  },
  {
   "cell_type": "code",
   "execution_count": 29,
   "id": "57f4d4ba-b26b-4646-9d51-38c3d9003f9a",
   "metadata": {},
   "outputs": [
    {
     "name": "stdout",
     "output_type": "stream",
     "text": [
      "c, b and a abracadabra\n"
     ]
    }
   ],
   "source": [
    " s1 = '{2}, {1} and {0}'.format('a', 'b', 'c')\n",
    "\n",
    "s2 = '{0}{1}{0}'.format('abra', 'cad') \n",
    "\n",
    "print(s1, s2)"
   ]
  },
  {
   "cell_type": "code",
   "execution_count": 30,
   "id": "b2dfdf92-4da7-418e-a0c5-032a72c39d0f",
   "metadata": {},
   "outputs": [
    {
     "name": "stdout",
     "output_type": "stream",
     "text": [
      "24\n"
     ]
    }
   ],
   "source": [
    "def mystery(n):\n",
    "\n",
    "    result = 1\n",
    "\n",
    "    for i in range(1, n + 1):\n",
    "\n",
    "        result *= i\n",
    "\n",
    "    return result\n",
    "\n",
    "\n",
    "\n",
    "print(mystery(4))"
   ]
  },
  {
   "cell_type": "code",
   "execution_count": 31,
   "id": "2b9c6749-36ed-4edf-b11e-6529650ee89b",
   "metadata": {},
   "outputs": [
    {
     "name": "stdout",
     "output_type": "stream",
     "text": [
      "[1, 2, 3]\n"
     ]
    }
   ],
   "source": [
    " lst1 = [1, 2, 3]\n",
    "\n",
    "lst2 = lst1\n",
    "\n",
    "lst2 = lst2 + [4, 5]\n",
    "\n",
    "print(lst1)"
   ]
  },
  {
   "cell_type": "code",
   "execution_count": 9,
   "id": "13e7bcc8-8ded-47fb-aa7a-4e5f0d4ab7e5",
   "metadata": {},
   "outputs": [],
   "source": [
    "class Person:\n",
    "   def __init__(self, name):\n",
    "       self.name = name\n",
    "       p = Person('John')\n",
    "       print(p.name)"
   ]
  },
  {
   "cell_type": "code",
   "execution_count": 35,
   "id": "63996d63-f526-4b8e-8515-63acd49ee92e",
   "metadata": {},
   "outputs": [
    {
     "name": "stdout",
     "output_type": "stream",
     "text": [
      "{1, 2, 3, 4, 5, 6, 7}\n"
     ]
    }
   ],
   "source": [
    "x = {1, 2, 3, 4, 5}\n",
    "y = {3, 4, 5, 6, 7}\n",
    "print(x | y)"
   ]
  },
  {
   "cell_type": "code",
   "execution_count": 36,
   "id": "e7f52d1f-75da-49da-a358-03f0e5f75163",
   "metadata": {},
   "outputs": [
    {
     "name": "stdout",
     "output_type": "stream",
     "text": [
      "{1, 2, 3, 4, 5}\n"
     ]
    }
   ],
   "source": [
    "s1 = {1, 2, 3}\n",
    "\n",
    "s2 = {3, 4, 5}\n",
    "\n",
    "result = s1 | s2 - s1 & s2\n",
    "\n",
    "print(result)"
   ]
  },
  {
   "cell_type": "code",
   "execution_count": 37,
   "id": "7dc3ea3e-607f-4587-9c53-98743bf06175",
   "metadata": {},
   "outputs": [
    {
     "name": "stdout",
     "output_type": "stream",
     "text": [
      "Finally\n",
      "Finally\n"
     ]
    }
   ],
   "source": [
    "def func(x):\n",
    "\n",
    "    try:\n",
    "\n",
    "        return 10 / x\n",
    "\n",
    "    except ZeroDivisionError:\n",
    "\n",
    "        return \"ZeroDivisionError\"\n",
    "\n",
    "    finally:\n",
    "\n",
    "        return \"Finally\"\n",
    "\n",
    " \n",
    "\n",
    "print(func(0))\n",
    "\n",
    "print(func(5))"
   ]
  },
  {
   "cell_type": "code",
   "execution_count": 38,
   "id": "9646142d-e49e-4905-8342-ca1d90c8d873",
   "metadata": {},
   "outputs": [
    {
     "name": "stdout",
     "output_type": "stream",
     "text": [
      "[4, 8, 12]\n"
     ]
    }
   ],
   "source": [
    "def check_list(lst):\n",
    "\n",
    "    return [x * 2 for x in lst if x % 2 == 0]\n",
    "\n",
    "\n",
    "\n",
    "print(check_list([1, 2, 3, 4, 5, 6]))\n",
    "\n"
   ]
  },
  {
   "cell_type": "code",
   "execution_count": 39,
   "id": "e25a8540-e5cd-4a66-961e-31c78ce4e510",
   "metadata": {},
   "outputs": [
    {
     "name": "stdout",
     "output_type": "stream",
     "text": [
      "*abcde *\n"
     ]
    }
   ],
   "source": [
    "print('*', \"abcde\".center(6), '*', sep='')"
   ]
  },
  {
   "cell_type": "code",
   "execution_count": 40,
   "id": "c5b53385-4a84-434f-857b-110fd56f64a9",
   "metadata": {},
   "outputs": [
    {
     "name": "stdout",
     "output_type": "stream",
     "text": [
      "(1, 2, 3, 4, 1, 2, 3, 4)\n"
     ]
    }
   ],
   "source": [
    "t = (1, 2, 3) + (4,)\n",
    "\n",
    "print(t * 2)"
   ]
  },
  {
   "cell_type": "code",
   "execution_count": 46,
   "id": "b72d4744-6a5b-42e3-9d5a-b48049333b39",
   "metadata": {},
   "outputs": [
    {
     "name": "stdout",
     "output_type": "stream",
     "text": [
      "Infinity\n"
     ]
    }
   ],
   "source": [
    "try:\n",
    "   result = 10 / 0\n",
    "except ZeroDivisionError:\n",
    "    result = \"Infinity\"\n",
    "\n",
    "print(result)"
   ]
  },
  {
   "cell_type": "code",
   "execution_count": 48,
   "id": "89f8318e-79dd-40e6-adec-a0c86421e90b",
   "metadata": {},
   "outputs": [
    {
     "name": "stdout",
     "output_type": "stream",
     "text": [
      "15\n"
     ]
    }
   ],
   "source": [
    "def outer(x):\n",
    "\n",
    "    def inner(y):\n",
    "\n",
    "        return x + y\n",
    "\n",
    "    return inner\n",
    "\n",
    "\n",
    "\n",
    "closure = outer(10)\n",
    "\n",
    "print(closure(5))\n",
    "\n"
   ]
  },
  {
   "cell_type": "code",
   "execution_count": 49,
   "id": "2f13ac59-c0b4-4db4-ba9e-f5e7aaac6ad8",
   "metadata": {},
   "outputs": [
    {
     "name": "stdout",
     "output_type": "stream",
     "text": [
      "[(0, 1), (0, 2), (1, 0), (1, 2), (2, 0), (2, 1)]\n"
     ]
    }
   ],
   "source": [
    "\n",
    "result = [(x, y) for x in range(3) for y in range(3) if x != y]\n",
    "\n",
    "print(result)\n",
    "\n"
   ]
  },
  {
   "cell_type": "code",
   "execution_count": 50,
   "id": "40b1b1b2-d164-4c82-80aa-2f34c0884340",
   "metadata": {},
   "outputs": [
    {
     "name": "stdout",
     "output_type": "stream",
     "text": [
      "[5]\n"
     ]
    }
   ],
   "source": [
    "data = [1, 2, 3, 4, 5]\n",
    "\n",
    "result = list(filter(lambda x: x % 2 and x > 3, data))\n",
    "\n",
    "print(result)"
   ]
  },
  {
   "cell_type": "code",
   "execution_count": 51,
   "id": "a2036043-1579-4159-8e4d-70bfadbeeefc",
   "metadata": {},
   "outputs": [
    {
     "name": "stdout",
     "output_type": "stream",
     "text": [
      "30\n"
     ]
    }
   ],
   "source": [
    "class A:\n",
    "\n",
    "    def __init__(self):\n",
    "\n",
    "        self.x = 10\n",
    "\n",
    " \n",
    "\n",
    "    def show(self):\n",
    "\n",
    "        return self.x + self.calc()\n",
    "\n",
    " \n",
    "\n",
    "    def calc(self):\n",
    "\n",
    "        return 5\n",
    "\n",
    " \n",
    "\n",
    "class B(A):\n",
    "\n",
    "    def calc(self):\n",
    "\n",
    "        return 20\n",
    "\n",
    " \n",
    "\n",
    "obj = B()\n",
    "\n",
    "print(obj.show())"
   ]
  },
  {
   "cell_type": "code",
   "execution_count": 52,
   "id": "57a74abf-2c4e-4a62-bbb6-6e7893260e04",
   "metadata": {},
   "outputs": [
    {
     "name": "stdout",
     "output_type": "stream",
     "text": [
      "12\n"
     ]
    }
   ],
   "source": [
    "def my_func(lst):\n",
    "\n",
    "    total = 0\n",
    "\n",
    "    for i in lst:\n",
    "\n",
    "        if i % 2 == 0:\n",
    "\n",
    "            total += i\n",
    "\n",
    "    return total\n",
    "\n",
    "\n",
    "\n",
    "numbers = [1, 2, 3, 4, 5, 6]\n",
    "\n",
    "result = my_func(numbers)\n",
    "\n",
    "print(result)"
   ]
  },
  {
   "cell_type": "code",
   "execution_count": 2,
   "id": "e67d59c2-a759-4e36-8e46-ea9c7b9ef96f",
   "metadata": {},
   "outputs": [
    {
     "name": "stdout",
     "output_type": "stream",
     "text": [
      "5\n"
     ]
    }
   ],
   "source": [
    "class MyClass:\n",
    "   def __init__(self, x):\n",
    "       self.x = x\n",
    "   def __str__(self):\n",
    "       return str(self.x)\n",
    "obj = MyClass(5)\n",
    "print(obj)"
   ]
  },
  {
   "cell_type": "code",
   "execution_count": 61,
   "id": "758b213b-981b-46eb-a4f6-24c557458e81",
   "metadata": {},
   "outputs": [
    {
     "name": "stdout",
     "output_type": "stream",
     "text": [
      "Entering\n",
      "Resource\n",
      "Exiting\n"
     ]
    }
   ],
   "source": [
    "class CustomManager:\n",
    "\n",
    "    def __enter__(self):\n",
    "\n",
    "        print(\"Entering\")\n",
    "\n",
    "        return \"Resource\"\n",
    "\n",
    "\n",
    "\n",
    "    def __exit__(self, exc_type, exc_value, traceback):\n",
    "\n",
    "        print(\"Exiting\")\n",
    "\n",
    "        return True\n",
    "\n",
    "with CustomManager() as resource:\n",
    "\n",
    "    print(resource)\n",
    "\n",
    "    raise ValueError(\"An error occurred\")"
   ]
  },
  {
   "cell_type": "code",
   "execution_count": 64,
   "id": "84524bbc-4aeb-4d29-a6c3-0d55fce7398b",
   "metadata": {},
   "outputs": [
    {
     "name": "stdout",
     "output_type": "stream",
     "text": [
      "((1, 2, 3), (1, 2, 3), (1, 2, 3))\n"
     ]
    }
   ],
   "source": [
    "def func():\n",
    "\n",
    "    return 1, 2, 3\n",
    "\n",
    "t = (func( ),) * 3\n",
    "\n",
    "print(t)"
   ]
  },
  {
   "cell_type": "code",
   "execution_count": 65,
   "id": "c5609f03-acd3-4a5c-91fd-5875adf42a35",
   "metadata": {},
   "outputs": [
    {
     "name": "stdout",
     "output_type": "stream",
     "text": [
      "2.0000   2 -8 3.77\n"
     ]
    }
   ],
   "source": [
    "a = 2\n",
    "\n",
    "b = '3.77'\n",
    "\n",
    "c = -8\n",
    "\n",
    "s = '{0:.4f} {0:3d} {2} {1}'.format(a, b, c) \n",
    "\n",
    "print(s)"
   ]
  },
  {
   "cell_type": "code",
   "execution_count": 66,
   "id": "aacfc742-57a5-4829-8c11-a6c67af01797",
   "metadata": {},
   "outputs": [
    {
     "name": "stdout",
     "output_type": "stream",
     "text": [
      "[1]\n",
      "[2]\n",
      "[1, 3]\n"
     ]
    }
   ],
   "source": [
    "def func(a, b=[]):\n",
    "\n",
    "    b.append(a)\n",
    "\n",
    "    return b\n",
    "\n",
    " \n",
    "\n",
    "print(func(1))\n",
    "\n",
    "print(func(2, []))\n",
    "\n",
    "print(func(3))"
   ]
  },
  {
   "cell_type": "code",
   "execution_count": 68,
   "id": "bc5ed643-2bb3-4922-81b5-258b5b5d216c",
   "metadata": {},
   "outputs": [
    {
     "name": "stdout",
     "output_type": "stream",
     "text": [
      "{'x': 20}\n"
     ]
    }
   ],
   "source": [
    "class A:\n",
    "    def __init__(self):\n",
    "\n",
    "        self.x = 10\n",
    "class B(A):\n",
    "\n",
    "    def __init__(self):\n",
    "\n",
    "        self.x = 20\n",
    "\n",
    "obj = B()\n",
    "\n",
    "print(obj.__dict__)"
   ]
  },
  {
   "cell_type": "code",
   "execution_count": 74,
   "id": "3e6c29f4-01b7-483d-8f59-86bfc7a2412a",
   "metadata": {},
   "outputs": [
    {
     "name": "stdout",
     "output_type": "stream",
     "text": [
      "10\n"
     ]
    }
   ],
   "source": [
    "def demo():\n",
    "   x = 10\n",
    "   print(x)\n",
    "x = 5\n",
    "\n",
    "demo()"
   ]
  },
  {
   "cell_type": "code",
   "execution_count": 70,
   "id": "b1a32d3b-0c81-4f03-a655-937a5c66b691",
   "metadata": {},
   "outputs": [
    {
     "name": "stdout",
     "output_type": "stream",
     "text": [
      "6\n"
     ]
    }
   ],
   "source": [
    "def foo(n):\n",
    "\n",
    "    if n == 0:\n",
    "\n",
    "        return 0\n",
    "\n",
    "    return n + foo(n-1)\n",
    "\n",
    " \n",
    "\n",
    "print(foo(3))"
   ]
  },
  {
   "cell_type": "code",
   "execution_count": null,
   "id": "063c9ab1-5a86-4c18-b8c6-dd521d82e2d5",
   "metadata": {},
   "outputs": [],
   "source": []
  }
 ],
 "metadata": {
  "kernelspec": {
   "display_name": "Python 3 (ipykernel)",
   "language": "python",
   "name": "python3"
  },
  "language_info": {
   "codemirror_mode": {
    "name": "ipython",
    "version": 3
   },
   "file_extension": ".py",
   "mimetype": "text/x-python",
   "name": "python",
   "nbconvert_exporter": "python",
   "pygments_lexer": "ipython3",
   "version": "3.11.7"
  }
 },
 "nbformat": 4,
 "nbformat_minor": 5
}
